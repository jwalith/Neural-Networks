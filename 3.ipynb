{
 "cells": [
  {
   "cell_type": "markdown",
   "id": "5de7c03a-1ac5-4b30-9cd4-0004c59871f7",
   "metadata": {},
   "source": [
    "#### Activation and Batch Normalization"
   ]
  },
  {
   "cell_type": "code",
   "execution_count": 1,
   "id": "676f0d64-c708-4cdd-b30c-0958e9171269",
   "metadata": {},
   "outputs": [],
   "source": [
    "import torch\n",
    "import torch.nn.functional as F\n",
    "import matplotlib.pyplot as plt\n",
    "%matplotlib inline"
   ]
  },
  {
   "cell_type": "code",
   "execution_count": 3,
   "id": "f476d46d-0324-4a2e-ace5-5d61858e1c74",
   "metadata": {},
   "outputs": [
    {
     "data": {
      "text/plain": [
       "['emma', 'olivia', 'ava', 'isabella', 'sophia', 'charlotte', 'mia', 'amelia']"
      ]
     },
     "execution_count": 3,
     "metadata": {},
     "output_type": "execute_result"
    }
   ],
   "source": [
    "# read in all the words\n",
    "words = open('names.txt', 'r').read().splitlines()\n",
    "words[:8]"
   ]
  },
  {
   "cell_type": "code",
   "execution_count": 5,
   "id": "a275518e-47a1-4b8d-b16c-8b2f03f86fda",
   "metadata": {},
   "outputs": [
    {
     "data": {
      "text/plain": [
       "32033"
      ]
     },
     "execution_count": 5,
     "metadata": {},
     "output_type": "execute_result"
    }
   ],
   "source": [
    "len(words)"
   ]
  },
  {
   "cell_type": "code",
   "execution_count": 7,
   "id": "7c09e982-7e49-4dd5-9b15-08c9012ed782",
   "metadata": {},
   "outputs": [
    {
     "name": "stdout",
     "output_type": "stream",
     "text": [
      "{1: 'a', 2: 'b', 3: 'c', 4: 'd', 5: 'e', 6: 'f', 7: 'g', 8: 'h', 9: 'i', 10: 'j', 11: 'k', 12: 'l', 13: 'm', 14: 'n', 15: 'o', 16: 'p', 17: 'q', 18: 'r', 19: 's', 20: 't', 21: 'u', 22: 'v', 23: 'w', 24: 'x', 25: 'y', 26: 'z', 0: '.'}\n",
      "27\n"
     ]
    }
   ],
   "source": [
    "# build the vocabulary of characters and mappings to/from integers\n",
    "chars = sorted(list(set(''.join(words))))\n",
    "stoi = {s:i+1 for i,s in enumerate(chars)}\n",
    "stoi['.'] = 0\n",
    "itos = {i:s for s,i in stoi.items()}\n",
    "vocab_size = len(itos)\n",
    "print(itos)\n",
    "print(vocab_size)"
   ]
  },
  {
   "cell_type": "code",
   "execution_count": 9,
   "id": "eb69f94a-c58e-4ca3-b451-6321f123ff9f",
   "metadata": {},
   "outputs": [
    {
     "name": "stdout",
     "output_type": "stream",
     "text": [
      "torch.Size([182625, 3]) torch.Size([182625])\n",
      "torch.Size([22655, 3]) torch.Size([22655])\n",
      "torch.Size([22866, 3]) torch.Size([22866])\n"
     ]
    }
   ],
   "source": [
    "# build the dataset\n",
    "block_size = 3 # context length: how many characters do we take to predict the next one?\n",
    "\n",
    "def build_dataset(words):  \n",
    "  X, Y = [], []\n",
    "  \n",
    "  for w in words:\n",
    "    context = [0] * block_size\n",
    "    for ch in w + '.':\n",
    "      ix = stoi[ch]\n",
    "      X.append(context)\n",
    "      Y.append(ix)\n",
    "      context = context[1:] + [ix] # crop and append\n",
    "\n",
    "  X = torch.tensor(X)\n",
    "  Y = torch.tensor(Y)\n",
    "  print(X.shape, Y.shape)\n",
    "  return X, Y\n",
    "\n",
    "import random\n",
    "random.seed(42)\n",
    "random.shuffle(words)\n",
    "n1 = int(0.8*len(words))\n",
    "n2 = int(0.9*len(words))\n",
    "\n",
    "Xtr,  Ytr  = build_dataset(words[:n1])     # 80%\n",
    "Xdev, Ydev = build_dataset(words[n1:n2])   # 10%\n",
    "Xte,  Yte  = build_dataset(words[n2:])     # 10%"
   ]
  },
  {
   "cell_type": "code",
   "execution_count": 49,
   "id": "a5d4a1bf-a539-4b9d-ac65-9c1eaf676d1d",
   "metadata": {},
   "outputs": [
    {
     "name": "stdout",
     "output_type": "stream",
     "text": [
      "11897\n"
     ]
    }
   ],
   "source": [
    "n_embd = 10\n",
    "n_hidden = 200\n",
    "\n",
    "g= torch.Generator().manual_seed(214)\n",
    "C = torch.randn((vocab_size,n_embd),generator =g)\n",
    "W1 = torch.randn((n_embd * block_size,n_hidden),generator =g)\n",
    "b1 = torch.randn(n_hidden , generator =g)\n",
    "W2 = torch.randn((n_hidden , vocab_size),generator =g)\n",
    "b2 = torch.randn(vocab_size,generator =g)\n",
    "parameters = [C,W1,b1,W2,b2]\n",
    "\n",
    "print(sum(p.nelement() for p in parameters))\n",
    "\n",
    "for p in parameters:\n",
    "    p.requires_grad = True"
   ]
  },
  {
   "cell_type": "code",
   "execution_count": 51,
   "id": "b2ec3830-6a40-431b-a2e0-35c6d78f4330",
   "metadata": {},
   "outputs": [
    {
     "name": "stdout",
     "output_type": "stream",
     "text": [
      "      0/ 200000: 22.8103\n",
      "  10000/ 200000: 2.6895\n",
      "  20000/ 200000: 2.4221\n",
      "  30000/ 200000: 2.2064\n",
      "  40000/ 200000: 2.1196\n",
      "  50000/ 200000: 1.8162\n",
      "  60000/ 200000: 2.3228\n",
      "  70000/ 200000: 2.4542\n",
      "  80000/ 200000: 2.4901\n",
      "  90000/ 200000: 2.0304\n",
      " 100000/ 200000: 2.2336\n",
      " 110000/ 200000: 1.8717\n",
      " 120000/ 200000: 1.8195\n",
      " 130000/ 200000: 2.2100\n",
      " 140000/ 200000: 2.0501\n",
      " 150000/ 200000: 2.0007\n",
      " 160000/ 200000: 2.1553\n",
      " 170000/ 200000: 1.9617\n",
      " 180000/ 200000: 2.1274\n",
      " 190000/ 200000: 2.0800\n"
     ]
    }
   ],
   "source": [
    "max_steps = 200000\n",
    "batch_size = 32\n",
    "lossi=[]\n",
    "\n",
    "for i in range(max_steps):\n",
    "  \n",
    "  # minibatch construct\n",
    "  ix = torch.randint(0, Xtr.shape[0], (batch_size,) , generator = g)\n",
    "  Xb ,Yb = Xtr[ix], Ytr[ix] # batch X,Y\n",
    "  \n",
    "  # forward pass\n",
    "  emb = C[Xb] # (32, 3, 10)\n",
    "  embcat = emb.view(emb.shape[0] ,-1) #concate vectors\n",
    "  hpreact = embcat @ W1 + b1 # hiddedn pre activation\n",
    "  h = torch.tanh(hpreact) # hidden\n",
    "  logits = h @ W2 + b2 # out\n",
    "  loss = F.cross_entropy(logits, Yb)\n",
    "  #print(loss.item())\n",
    "  \n",
    "  # backward pass\n",
    "  for p in parameters:\n",
    "    p.grad = None\n",
    "  loss.backward()\n",
    "  \n",
    "  # update\n",
    "  #lr = lrs[i]\n",
    "  lr = 0.1 if i < 100000 else 0.01\n",
    "  for p in parameters:\n",
    "    p.data += -lr * p.grad\n",
    "\n",
    "  # track stats\n",
    "  #lri.append(lre[i])\n",
    "  if i % 10000 == 0: # print every once in a while\n",
    "    print(f'{i:7d}/{max_steps:7d}: {loss.item():.4f}')\n",
    "  lossi.append(loss.log10().item())\n",
    "\n",
    "#print(loss.item())"
   ]
  },
  {
   "cell_type": "code",
   "execution_count": 53,
   "id": "d48b13c6-e451-47f8-a1e5-28095b76630f",
   "metadata": {},
   "outputs": [
    {
     "data": {
      "text/plain": [
       "tensor([  0.9982,   5.5515,  -4.0297,  -3.9381,  -6.9551,   3.1348,  -2.6888,\n",
       "         -9.9456,  -5.9183,   4.4835,  -4.4895,  -9.7056,  -3.0283,  -6.2236,\n",
       "         -4.6159,   1.5790,  -4.1420,  -8.4462,  -4.1086,  -3.6283,  -2.3293,\n",
       "         -0.0328,  -5.5885,  -8.8652, -12.3062,   2.7883,  -4.3371],\n",
       "       grad_fn=<SelectBackward0>)"
      ]
     },
     "execution_count": 53,
     "metadata": {},
     "output_type": "execute_result"
    }
   ],
   "source": [
    "logits[0]"
   ]
  },
  {
   "cell_type": "code",
   "execution_count": 21,
   "id": "d42cd85b-ecef-4483-9cb9-52057b553dcb",
   "metadata": {
    "scrolled": true
   },
   "outputs": [
    {
     "data": {
      "image/png": "[encoded data removed]",
      "text/plain": [
       "<Figure size 640x480 with 1 Axes>"
      ]
     },
     "metadata": {},
     "output_type": "display_data"
    }
   ],
   "source": [
    "plt.plot(lossi)\n",
    "plt.show()"
   ]
  },
  {
   "cell_type": "code",
   "execution_count": 17,
   "id": "c8e37e15-8f0a-433f-a91d-e8284b5ba2a1",
   "metadata": {},
   "outputs": [
    {
     "name": "stdout",
     "output_type": "stream",
     "text": [
      "train 3.3108179569244385\n",
      "val 3.343069553375244\n"
     ]
    }
   ],
   "source": [
    "@torch.no_grad() # this decorator disables gradient tracking\n",
    "def split_loss(split):\n",
    "  x,y = {\n",
    "    'train': (Xtr, Ytr),\n",
    "    'val': (Xdev, Ydev),\n",
    "    'test': (Xte, Yte),\n",
    "  }[split]\n",
    "  emb = C[x] # (N, block_size, n_embd)\n",
    "  embcat = emb.view(emb.shape[0], -1) # concat into (N, block_size * n_embd)\n",
    "  hpreact = embcat @ W1 # + b1\n",
    "  h = torch.tanh(hpreact) # (N, n_hidden)\n",
    "  logits = h @ W2 + b2 # (N, vocab_size)\n",
    "  loss = F.cross_entropy(logits, y)\n",
    "  print(split, loss.item())\n",
    "\n",
    "split_loss('train')\n",
    "split_loss('val')"
   ]
  },
  {
   "cell_type": "code",
   "execution_count": 19,
   "id": "63728d93-d31a-41fa-a277-18839115d89e",
   "metadata": {},
   "outputs": [
    {
     "name": "stdout",
     "output_type": "stream",
     "text": [
      "carpavelai.\n",
      "harli.\n",
      "jari.\n",
      "reh.\n",
      "cassanden.\n",
      "jazonen.\n",
      "delynn.\n",
      "jarqui.\n",
      "nellara.\n",
      "chaiiv.\n",
      "kaleigph.\n",
      "bryn.\n",
      "cateen.\n",
      "tis.\n",
      "lilea.\n",
      "jamique.\n",
      "jero.\n",
      "dearystifpy.\n",
      "kairuston.\n",
      "demiia.\n"
     ]
    }
   ],
   "source": [
    "# sample from the model\n",
    "g = torch.Generator().manual_seed(2147483647 + 10)\n",
    "\n",
    "for _ in range(20):\n",
    "    \n",
    "    out = []\n",
    "    context = [0] * block_size # initialize with all ...\n",
    "    while True:\n",
    "      emb = C[torch.tensor([context])] # (1,block_size,d)\n",
    "      h = torch.tanh(emb.view(1, -1) @ W1 + b1)\n",
    "      logits = h @ W2 + b2\n",
    "      probs = F.softmax(logits, dim=1)\n",
    "      ix = torch.multinomial(probs, num_samples=1, generator=g).item()\n",
    "      context = context[1:] + [ix]\n",
    "      out.append(ix)\n",
    "      if ix == 0:\n",
    "        break\n",
    "    \n",
    "    print(''.join(itos[i] for i in out))"
   ]
  },
  {
   "cell_type": "code",
   "execution_count": 27,
   "id": "8edf67e3-7198-402a-8f5e-405d76a483fc",
   "metadata": {},
   "outputs": [
    {
     "data": {
      "text/plain": [
       "0.037037037037037035"
      ]
     },
     "execution_count": 27,
     "metadata": {},
     "output_type": "execute_result"
    }
   ],
   "source": [
    "1/27"
   ]
  },
  {
   "cell_type": "code",
   "execution_count": 29,
   "id": "422a7d4a-c0c0-447f-a7cd-6d08b373ba78",
   "metadata": {},
   "outputs": [
    {
     "data": {
      "text/plain": [
       "tensor(3.2958)"
      ]
     },
     "execution_count": 29,
     "metadata": {},
     "output_type": "execute_result"
    }
   ],
   "source": [
    "-torch.tensor(1/27.0).log()  # Average loss it should be"
   ]
  },
  {
   "cell_type": "code",
   "execution_count": 31,
   "id": "a15ceee8-131e-4f68-8f3b-4a5cdedb0021",
   "metadata": {},
   "outputs": [],
   "source": [
    "##BUT is u see in the first iteration the loss is 27 which we can improve"
   ]
  },
  {
   "cell_type": "code",
   "execution_count": 33,
   "id": "ea797b33-fdce-4242-81c1-488a96bdc8f5",
   "metadata": {},
   "outputs": [],
   "source": [
    "## This happens because of randomly initialized weights"
   ]
  },
  {
   "cell_type": "code",
   "execution_count": 55,
   "id": "f32de53c-be2a-4fa3-ac48-3a9082d748fa",
   "metadata": {},
   "outputs": [
    {
     "data": {
      "text/plain": [
       "tensor([  0.9982,   5.5515,  -4.0297,  -3.9381,  -6.9551,   3.1348,  -2.6888,\n",
       "         -9.9456,  -5.9183,   4.4835,  -4.4895,  -9.7056,  -3.0283,  -6.2236,\n",
       "         -4.6159,   1.5790,  -4.1420,  -8.4462,  -4.1086,  -3.6283,  -2.3293,\n",
       "         -0.0328,  -5.5885,  -8.8652, -12.3062,   2.7883,  -4.3371],\n",
       "       grad_fn=<SelectBackward0>)"
      ]
     },
     "execution_count": 55,
     "metadata": {},
     "output_type": "execute_result"
    }
   ],
   "source": [
    "logits[0]"
   ]
  },
  {
   "cell_type": "code",
   "execution_count": 57,
   "id": "0d427a09-3712-49e1-ae7b-ebe800e35f1a",
   "metadata": {},
   "outputs": [
    {
     "name": "stdout",
     "output_type": "stream",
     "text": [
      "11897\n"
     ]
    }
   ],
   "source": [
    "n_embd = 10\n",
    "n_hidden = 200\n",
    "\n",
    "g= torch.Generator().manual_seed(214)\n",
    "C = torch.randn((vocab_size,n_embd),generator =g)\n",
    "W1 = torch.randn((n_embd * block_size,n_hidden),generator =g)\n",
    "b1 = torch.randn(n_hidden , generator =g)\n",
    "W2 = torch.randn((n_hidden , vocab_size),generator =g)\n",
    "b2 = torch.randn(vocab_size,generator =g)\n",
    "parameters = [C,W1,b1,W2,b2]\n",
    "\n",
    "print(sum(p.nelement() for p in parameters))\n",
    "\n",
    "for p in parameters:\n",
    "    p.requires_grad = True"
   ]
  },
  {
   "cell_type": "code",
   "execution_count": 59,
   "id": "f2630635-c64a-44cf-bb12-6619d57300a6",
   "metadata": {},
   "outputs": [
    {
     "name": "stdout",
     "output_type": "stream",
     "text": [
      "      0/ 200000: 22.8103\n"
     ]
    }
   ],
   "source": [
    "max_steps = 200000\n",
    "batch_size = 32\n",
    "lossi=[]\n",
    "\n",
    "for i in range(max_steps):\n",
    "  \n",
    "  # minibatch construct\n",
    "  ix = torch.randint(0, Xtr.shape[0], (batch_size,) , generator = g)\n",
    "  Xb ,Yb = Xtr[ix], Ytr[ix] # batch X,Y\n",
    "  \n",
    "  # forward pass\n",
    "  emb = C[Xb] # (32, 3, 10)\n",
    "  embcat = emb.view(emb.shape[0] ,-1) #concate vectors\n",
    "  hpreact = embcat @ W1 + b1 # hiddedn pre activation\n",
    "  h = torch.tanh(hpreact) # hidden\n",
    "  logits = h @ W2 + b2 # out\n",
    "  loss = F.cross_entropy(logits, Yb)\n",
    "  #print(loss.item())\n",
    "  \n",
    "  # backward pass\n",
    "  for p in parameters:\n",
    "    p.grad = None\n",
    "  loss.backward()\n",
    "  \n",
    "  # update\n",
    "  #lr = lrs[i]\n",
    "  lr = 0.1 if i < 100000 else 0.01\n",
    "  for p in parameters:\n",
    "    p.data += -lr * p.grad\n",
    "\n",
    "  # track stats\n",
    "  #lri.append(lre[i])\n",
    "  if i % 10000 == 0: # print every once in a while\n",
    "    print(f'{i:7d}/{max_steps:7d}: {loss.item():.4f}')\n",
    "  lossi.append(loss.log10().item())\n",
    "  break\n",
    "\n",
    "#print(loss.item())"
   ]
  },
  {
   "cell_type": "code",
   "execution_count": 61,
   "id": "90a60bcd-bca8-43ce-93a1-eb10a99636dc",
   "metadata": {},
   "outputs": [
    {
     "data": {
      "text/plain": [
       "tensor([ 16.2302,  10.9687,   8.1513,  10.7653,  -1.5868,  15.9697,  18.4443,\n",
       "          5.3465,  -6.2597,  13.0162,  -0.0960,  11.4786, -12.9771,   3.4785,\n",
       "        -21.7663, -14.2289,  12.2512,  -2.7778,  13.4412, -10.3855,  -3.8728,\n",
       "          6.6951, -12.4779,  -5.9018,  24.5830,   2.7310,   4.4197],\n",
       "       grad_fn=<SelectBackward0>)"
      ]
     },
     "execution_count": 61,
     "metadata": {},
     "output_type": "execute_result"
    }
   ],
   "source": [
    "logits[0]"
   ]
  },
  {
   "cell_type": "markdown",
   "id": "b5fbe58c-3251-4c43-8b09-e9925421b044",
   "metadata": {},
   "source": [
    "#### fixing softmax i.e logits"
   ]
  },
  {
   "cell_type": "code",
   "execution_count": 63,
   "id": "263f1399-a32b-4af5-8041-c45bb61d83c8",
   "metadata": {},
   "outputs": [],
   "source": [
    "#if u see logits are very large at first"
   ]
  },
  {
   "cell_type": "code",
   "execution_count": null,
   "id": "17147e37-82e4-46ad-b263-c1f16e670579",
   "metadata": {},
   "outputs": [],
   "source": [
    "# logits = h @ W2 + b2 # out\n",
    "# So we make b =0 and W2 smaller"
   ]
  },
  {
   "cell_type": "code",
   "execution_count": 69,
   "id": "d72c613b-80ad-437c-a55b-9a050536bb4d",
   "metadata": {},
   "outputs": [
    {
     "name": "stdout",
     "output_type": "stream",
     "text": [
      "11897\n"
     ]
    }
   ],
   "source": [
    "n_embd = 10\n",
    "n_hidden = 200\n",
    "\n",
    "g= torch.Generator().manual_seed(214)\n",
    "C = torch.randn((vocab_size,n_embd),generator =g)\n",
    "W1 = torch.randn((n_embd * block_size,n_hidden),generator =g)\n",
    "b1 = torch.randn(n_hidden , generator =g)\n",
    "W2 = torch.randn((n_hidden , vocab_size),generator =g) * 0.01\n",
    "b2 = torch.randn(vocab_size,generator =g) * 0 \n",
    "parameters = [C,W1,b1,W2,b2]\n",
    "\n",
    "print(sum(p.nelement() for p in parameters))\n",
    "\n",
    "for p in parameters:\n",
    "    p.requires_grad = True"
   ]
  },
  {
   "cell_type": "code",
   "execution_count": 71,
   "id": "4217f419-3747-4ae2-be72-549da1532112",
   "metadata": {},
   "outputs": [
    {
     "name": "stdout",
     "output_type": "stream",
     "text": [
      "      0/ 200000: 3.2962\n"
     ]
    }
   ],
   "source": [
    "max_steps = 200000\n",
    "batch_size = 32\n",
    "lossi=[]\n",
    "\n",
    "for i in range(max_steps):\n",
    "  \n",
    "  # minibatch construct\n",
    "  ix = torch.randint(0, Xtr.shape[0], (batch_size,) , generator = g)\n",
    "  Xb ,Yb = Xtr[ix], Ytr[ix] # batch X,Y\n",
    "  \n",
    "  # forward pass\n",
    "  emb = C[Xb] # (32, 3, 10)\n",
    "  embcat = emb.view(emb.shape[0] ,-1) #concate vectors\n",
    "  hpreact = embcat @ W1 + b1 # hiddedn pre activation\n",
    "  h = torch.tanh(hpreact) # hidden\n",
    "  logits = h @ W2 + b2 # out\n",
    "  loss = F.cross_entropy(logits, Yb)\n",
    "  #print(loss.item())\n",
    "  \n",
    "  # backward pass\n",
    "  for p in parameters:\n",
    "    p.grad = None\n",
    "  loss.backward()\n",
    "  \n",
    "  # update\n",
    "  #lr = lrs[i]\n",
    "  lr = 0.1 if i < 100000 else 0.01\n",
    "  for p in parameters:\n",
    "    p.data += -lr * p.grad\n",
    "\n",
    "  # track stats\n",
    "  #lri.append(lre[i])\n",
    "  if i % 10000 == 0: # print every once in a while\n",
    "    print(f'{i:7d}/{max_steps:7d}: {loss.item():.4f}')\n",
    "  lossi.append(loss.log10().item())\n",
    "  break\n",
    "\n",
    "#print(loss.item())"
   ]
  },
  {
   "cell_type": "code",
   "execution_count": 73,
   "id": "94c2abcf-a4bc-4615-92e6-ebe176e56872",
   "metadata": {},
   "outputs": [
    {
     "data": {
      "text/plain": [
       "tensor([ 0.1522,  0.1025,  0.0868,  0.1047, -0.0054,  0.1634,  0.1736,  0.0379,\n",
       "        -0.0887,  0.1157, -0.0063,  0.1071, -0.1241,  0.0408, -0.1982, -0.1576,\n",
       "         0.1041, -0.0394,  0.1395, -0.1201, -0.0365,  0.0688, -0.1200, -0.0638,\n",
       "         0.2401,  0.0180,  0.0180], grad_fn=<SelectBackward0>)"
      ]
     },
     "execution_count": 73,
     "metadata": {},
     "output_type": "execute_result"
    }
   ],
   "source": [
    "logits[0]"
   ]
  },
  {
   "cell_type": "code",
   "execution_count": 75,
   "id": "a8ba7efc-c490-4ebe-a89f-8496e45ed93d",
   "metadata": {},
   "outputs": [
    {
     "data": {
      "text/plain": [
       "tensor([[ 1.0000,  0.9975, -0.9957,  ..., -0.9977, -0.9091, -1.0000],\n",
       "        [ 0.9987,  1.0000, -1.0000,  ...,  1.0000,  1.0000, -0.9666],\n",
       "        [ 0.9912, -0.9986, -0.9984,  ...,  0.2583,  0.0590, -1.0000],\n",
       "        ...,\n",
       "        [-0.5602, -1.0000, -0.9924,  ...,  0.9455,  0.5716, -0.9997],\n",
       "        [ 1.0000,  0.9975, -0.9957,  ..., -0.9977, -0.9091, -1.0000],\n",
       "        [ 1.0000,  0.9975, -0.9957,  ..., -0.9977, -0.9091, -1.0000]],\n",
       "       grad_fn=<TanhBackward0>)"
      ]
     },
     "execution_count": 75,
     "metadata": {},
     "output_type": "execute_result"
    }
   ],
   "source": [
    "h"
   ]
  },
  {
   "cell_type": "code",
   "execution_count": 77,
   "id": "23d02bc1-e231-4c31-8bbd-ed016b084695",
   "metadata": {},
   "outputs": [
    {
     "data": {
      "text/plain": [
       "torch.Size([32, 200])"
      ]
     },
     "execution_count": 77,
     "metadata": {},
     "output_type": "execute_result"
    }
   ],
   "source": [
    "h.shape"
   ]
  },
  {
   "cell_type": "code",
   "execution_count": 81,
   "id": "4c54c8e9-ed77-47ad-9683-790765911287",
   "metadata": {},
   "outputs": [
    {
     "data": {
      "text/plain": [
       "torch.Size([6400])"
      ]
     },
     "execution_count": 81,
     "metadata": {},
     "output_type": "execute_result"
    }
   ],
   "source": [
    "h.view(-1).shape"
   ]
  },
  {
   "cell_type": "code",
   "execution_count": 83,
   "id": "4a1fb4fb-35b7-45c3-8a87-ab1332df3ea6",
   "metadata": {},
   "outputs": [
    {
     "data": {
      "image/png": "[encoded data removed]",
      "text/plain": [
       "<Figure size 640x480 with 1 Axes>"
      ]
     },
     "metadata": {},
     "output_type": "display_data"
    }
   ],
   "source": [
    "plt.hist(h.view(-1).tolist(), 50);\n",
    "plt.show()"
   ]
  },
  {
   "cell_type": "code",
   "execution_count": 85,
   "id": "93056b8e-35a1-4170-bc67-3033f35d8603",
   "metadata": {},
   "outputs": [
    {
     "data": {
      "image/png": "[encoded data removed]",
      "text/plain": [
       "<Figure size 640x480 with 1 Axes>"
      ]
     },
     "metadata": {},
     "output_type": "display_data"
    }
   ],
   "source": [
    "plt.hist(hpreact.view(-1).tolist(), 50);\n",
    "plt.show()"
   ]
  },
  {
   "cell_type": "code",
   "execution_count": null,
   "id": "4f741698-10d7-4868-a543-bd90d203e2bb",
   "metadata": {},
   "outputs": [],
   "source": []
  },
  {
   "cell_type": "markdown",
   "id": "09ad264b-6f08-43c4-b131-356c5b89950c",
   "metadata": {},
   "source": [
    "### if tanh value is close to 1 ,-1 then bacward value will be 0\n",
    "### remmber the tanh distribution is like S so when the values are extrene side no matter if u change the value it be already on platue i.e top or bottom part of S curve so there wont be much change"
   ]
  },
  {
   "cell_type": "code",
   "execution_count": 93,
   "id": "9d4e3adb-585a-4f21-b2fe-4e48e6a54d76",
   "metadata": {},
   "outputs": [
    {
     "data": {
      "text/plain": [
       "<matplotlib.image.AxesImage at 0x2120dbe5b80>"
      ]
     },
     "execution_count": 93,
     "metadata": {},
     "output_type": "execute_result"
    }
   ],
   "source": [
    "plt.figure(figsize = (20,10))\n",
    "plt.imshow(h.abs()>0.99 , cmap = \"gray\", interpolation = 'nearest')"
   ]
  },
  {
   "cell_type": "code",
   "execution_count": 95,
   "id": "4fcfac40-07b4-4171-ba8f-4aac8144c955",
   "metadata": {},
   "outputs": [
    {
     "data": {
      "image/png": "[encoded data removed]",
      "text/plain": [
       "<Figure size 2000x1000 with 1 Axes>"
      ]
     },
     "metadata": {},
     "output_type": "display_data"
    }
   ],
   "source": [
    "plt.show()"
   ]
  },
  {
   "cell_type": "markdown",
   "id": "aecbc775-0cd9-4f84-9acc-7a9b67eb9c48",
   "metadata": {},
   "source": [
    "### here white spaces are tanh =0 so suppose if there is an entire line with just white meaning\n",
    "### tanh =0 then its a dead neuron"
   ]
  },
  {
   "cell_type": "markdown",
   "id": "ef736559-c62a-45f3-aac6-aa992e41e97e",
   "metadata": {},
   "source": [
    "### Even in Relu if its -ve values then its dead .  Some times happens in initialization or during optimization when we have high learning rate then gradient will be extreme and it will become dead"
   ]
  },
  {
   "cell_type": "markdown",
   "id": "41a36ac3-1c00-42cd-b258-f62adc05cbb7",
   "metadata": {},
   "source": [
    "### This tanh is having extreme values because h value is in high distribution so we can\n",
    "### reduce the value of h by decreasing w1 and b1"
   ]
  },
  {
   "cell_type": "code",
   "execution_count": 124,
   "id": "4f49b041-739a-44fc-9dac-a26d80157104",
   "metadata": {},
   "outputs": [
    {
     "name": "stdout",
     "output_type": "stream",
     "text": [
      "11897\n"
     ]
    }
   ],
   "source": [
    "n_embd = 10\n",
    "n_hidden = 200\n",
    "\n",
    "g= torch.Generator().manual_seed(214)\n",
    "C = torch.randn((vocab_size,n_embd),generator =g)\n",
    "W1 = torch.randn((n_embd * block_size,n_hidden),generator =g) * 0.2\n",
    "b1 = torch.randn(n_hidden , generator =g) * 0.01\n",
    "W2 = torch.randn((n_hidden , vocab_size),generator =g) * 0.01\n",
    "b2 = torch.randn(vocab_size,generator =g) * 0 \n",
    "parameters = [C,W1,b1,W2,b2]\n",
    "\n",
    "print(sum(p.nelement() for p in parameters))\n",
    "\n",
    "for p in parameters:\n",
    "    p.requires_grad = True"
   ]
  },
  {
   "cell_type": "code",
   "execution_count": 126,
   "id": "78f47ef9-551d-4b39-8b54-76284f80c3af",
   "metadata": {},
   "outputs": [
    {
     "name": "stdout",
     "output_type": "stream",
     "text": [
      "      0/ 200000: 3.2932\n"
     ]
    }
   ],
   "source": [
    "max_steps = 200000\n",
    "batch_size = 32\n",
    "lossi=[]\n",
    "\n",
    "for i in range(max_steps):\n",
    "  \n",
    "  # minibatch construct\n",
    "  ix = torch.randint(0, Xtr.shape[0], (batch_size,) , generator = g)\n",
    "  Xb ,Yb = Xtr[ix], Ytr[ix] # batch X,Y\n",
    "  \n",
    "  # forward pass\n",
    "  emb = C[Xb] # (32, 3, 10)\n",
    "  embcat = emb.view(emb.shape[0] ,-1) #concate vectors\n",
    "  hpreact = embcat @ W1 + b1 # hiddedn pre activation\n",
    "  h = torch.tanh(hpreact) # hidden\n",
    "  logits = h @ W2 + b2 # out\n",
    "  loss = F.cross_entropy(logits, Yb)\n",
    "  #print(loss.item())\n",
    "  \n",
    "  # backward pass\n",
    "  for p in parameters:\n",
    "    p.grad = None\n",
    "  loss.backward()\n",
    "  \n",
    "  # update\n",
    "  #lr = lrs[i]\n",
    "  lr = 0.1 if i < 100000 else 0.01\n",
    "  for p in parameters:\n",
    "    p.data += -lr * p.grad\n",
    "\n",
    "  # track stats\n",
    "  #lri.append(lre[i])\n",
    "  if i % 10000 == 0: # print every once in a while\n",
    "    print(f'{i:7d}/{max_steps:7d}: {loss.item():.4f}')\n",
    "  lossi.append(loss.log10().item())\n",
    "  break\n",
    "\n",
    "#print(loss.item())"
   ]
  },
  {
   "cell_type": "code",
   "execution_count": 128,
   "id": "83603f81-5681-471a-a850-da0c42dd2d7f",
   "metadata": {},
   "outputs": [
    {
     "data": {
      "image/png": "[encoded data removed]",
      "text/plain": [
       "<Figure size 640x480 with 1 Axes>"
      ]
     },
     "metadata": {},
     "output_type": "display_data"
    }
   ],
   "source": [
    "plt.hist(h.view(-1).tolist(), 50);\n",
    "plt.show()"
   ]
  },
  {
   "cell_type": "code",
   "execution_count": 130,
   "id": "9abd4959-b3f9-471f-9100-6c1840b497c6",
   "metadata": {},
   "outputs": [
    {
     "data": {
      "image/png": "[encoded data removed]",
      "text/plain": [
       "<Figure size 640x480 with 1 Axes>"
      ]
     },
     "metadata": {},
     "output_type": "display_data"
    }
   ],
   "source": [
    "plt.hist(hpreact.view(-1).tolist(), 50);\n",
    "plt.show()"
   ]
  },
  {
   "cell_type": "code",
   "execution_count": 132,
   "id": "ecc8ecda-d01a-4c5d-8986-f62f61ca0a5e",
   "metadata": {},
   "outputs": [
    {
     "data": {
      "text/plain": [
       "<matplotlib.image.AxesImage at 0x21212d48a10>"
      ]
     },
     "execution_count": 132,
     "metadata": {},
     "output_type": "execute_result"
    }
   ],
   "source": [
    "plt.figure(figsize = (20,10))\n",
    "plt.imshow(h.abs()>0.99 , cmap = \"gray\", interpolation = 'nearest')"
   ]
  },
  {
   "cell_type": "code",
   "execution_count": 134,
   "id": "3a18a82c-9bae-44e0-90f2-b640c9b6f661",
   "metadata": {},
   "outputs": [
    {
     "data": {
      "image/png": "[encoded data removed]",
      "text/plain": [
       "<Figure size 2000x1000 with 1 Axes>"
      ]
     },
     "metadata": {},
     "output_type": "display_data"
    }
   ],
   "source": [
    "plt.show()"
   ]
  },
  {
   "cell_type": "markdown",
   "id": "b096e274-1c2a-4b6e-ad40-57776aafa278",
   "metadata": {},
   "source": [
    "#### If you see tanhh graph there are no nurons that are above -1 and 1 so its all black"
   ]
  },
  {
   "cell_type": "code",
   "execution_count": 138,
   "id": "92d04b9b-2c90-42b4-a9a3-14f77e05d212",
   "metadata": {},
   "outputs": [
    {
     "name": "stdout",
     "output_type": "stream",
     "text": [
      "11897\n"
     ]
    }
   ],
   "source": [
    "n_embd = 10\n",
    "n_hidden = 200\n",
    "\n",
    "g= torch.Generator().manual_seed(214)\n",
    "C = torch.randn((vocab_size,n_embd),generator =g)\n",
    "W1 = torch.randn((n_embd * block_size,n_hidden),generator =g) * 0.2\n",
    "b1 = torch.randn(n_hidden , generator =g) * 0.01\n",
    "W2 = torch.randn((n_hidden , vocab_size),generator =g) * 0.01\n",
    "b2 = torch.randn(vocab_size,generator =g) * 0 \n",
    "parameters = [C,W1,b1,W2,b2]\n",
    "\n",
    "print(sum(p.nelement() for p in parameters))\n",
    "\n",
    "for p in parameters:\n",
    "    p.requires_grad = True"
   ]
  },
  {
   "cell_type": "code",
   "execution_count": 140,
   "id": "626e39f3-e200-40e9-8df2-628efbe96c9f",
   "metadata": {},
   "outputs": [
    {
     "name": "stdout",
     "output_type": "stream",
     "text": [
      "      0/ 200000: 3.2932\n",
      "  10000/ 200000: 2.4835\n",
      "  20000/ 200000: 2.1118\n",
      "  30000/ 200000: 2.1184\n",
      "  40000/ 200000: 2.0628\n",
      "  50000/ 200000: 1.8544\n",
      "  60000/ 200000: 2.0020\n",
      "  70000/ 200000: 2.4049\n",
      "  80000/ 200000: 2.1180\n",
      "  90000/ 200000: 1.9363\n",
      " 100000/ 200000: 2.0518\n",
      " 110000/ 200000: 1.8418\n",
      " 120000/ 200000: 1.8344\n",
      " 130000/ 200000: 2.1096\n",
      " 140000/ 200000: 1.9204\n",
      " 150000/ 200000: 1.8611\n",
      " 160000/ 200000: 1.9554\n",
      " 170000/ 200000: 1.8610\n",
      " 180000/ 200000: 2.0613\n",
      " 190000/ 200000: 2.0286\n"
     ]
    }
   ],
   "source": [
    "max_steps = 200000\n",
    "batch_size = 32\n",
    "lossi=[]\n",
    "\n",
    "for i in range(max_steps):\n",
    "  \n",
    "  # minibatch construct\n",
    "  ix = torch.randint(0, Xtr.shape[0], (batch_size,) , generator = g)\n",
    "  Xb ,Yb = Xtr[ix], Ytr[ix] # batch X,Y\n",
    "  \n",
    "  # forward pass\n",
    "  emb = C[Xb] # (32, 3, 10)\n",
    "  embcat = emb.view(emb.shape[0] ,-1) #concate vectors\n",
    "  hpreact = embcat @ W1 + b1 # hiddedn pre activation\n",
    "  h = torch.tanh(hpreact) # hidden\n",
    "  logits = h @ W2 + b2 # out\n",
    "  loss = F.cross_entropy(logits, Yb)\n",
    "  #print(loss.item())\n",
    "  \n",
    "  # backward pass\n",
    "  for p in parameters:\n",
    "    p.grad = None\n",
    "  loss.backward()\n",
    "  \n",
    "  # update\n",
    "  #lr = lrs[i]\n",
    "  lr = 0.1 if i < 100000 else 0.01\n",
    "  for p in parameters:\n",
    "    p.data += -lr * p.grad\n",
    "\n",
    "  # track stats\n",
    "  #lri.append(lre[i])\n",
    "  if i % 10000 == 0: # print every once in a while\n",
    "    print(f'{i:7d}/{max_steps:7d}: {loss.item():.4f}')\n",
    "  lossi.append(loss.log10().item())\n",
    "#print(loss.item())"
   ]
  },
  {
   "cell_type": "code",
   "execution_count": 142,
   "id": "f29de098-9692-44b7-973a-a1baa8771c2d",
   "metadata": {},
   "outputs": [
    {
     "name": "stdout",
     "output_type": "stream",
     "text": [
      "train 2.238511562347412\n",
      "val 2.2973506450653076\n"
     ]
    }
   ],
   "source": [
    "@torch.no_grad() # this decorator disables gradient tracking\n",
    "def split_loss(split):\n",
    "  x,y = {\n",
    "    'train': (Xtr, Ytr),\n",
    "    'val': (Xdev, Ydev),\n",
    "    'test': (Xte, Yte),\n",
    "  }[split]\n",
    "  emb = C[x] # (N, block_size, n_embd)\n",
    "  embcat = emb.view(emb.shape[0], -1) # concat into (N, block_size * n_embd)\n",
    "  hpreact = embcat @ W1 # + b1\n",
    "  h = torch.tanh(hpreact) # (N, n_hidden)\n",
    "  logits = h @ W2 + b2 # (N, vocab_size)\n",
    "  loss = F.cross_entropy(logits, y)\n",
    "  print(split, loss.item())\n",
    "\n",
    "split_loss('train')\n",
    "split_loss('val')"
   ]
  },
  {
   "cell_type": "code",
   "execution_count": 147,
   "id": "375bae69-f5db-40fb-a970-17cb854ebadc",
   "metadata": {},
   "outputs": [],
   "source": [
    "### By fixing these weights we go better loss "
   ]
  },
  {
   "cell_type": "code",
   "execution_count": 155,
   "id": "fff96142-c103-4674-8137-ef3602673150",
   "metadata": {},
   "outputs": [
    {
     "name": "stdout",
     "output_type": "stream",
     "text": [
      "tensor(-0.0010) tensor(0.9994)\n",
      "tensor(0.0036) tensor(3.1576)\n"
     ]
    },
    {
     "data": {
      "image/png": "[encoded data removed]",
      "text/plain": [
       "<Figure size 2000x500 with 2 Axes>"
      ]
     },
     "metadata": {},
     "output_type": "display_data"
    }
   ],
   "source": [
    "x = torch.randn(1000,10)\n",
    "w = torch.randn(10 , 200)\n",
    "y=x@w\n",
    "print(x.mean() ,x.std())\n",
    "print(y.mean(), y.std())\n",
    "\n",
    "plt.figure(figsize=(20,5))\n",
    "plt.subplot(121)\n",
    "plt.hist(x.view(-1).tolist(), 50, density=True)\n",
    "plt.subplot(122)\n",
    "plt.hist(y.view(-1).tolist(), 50, density=True)\n",
    "\n",
    "plt.show()"
   ]
  },
  {
   "cell_type": "code",
   "execution_count": 157,
   "id": "1ba78268-13f3-4a4d-acf6-b0bb4e46dfab",
   "metadata": {},
   "outputs": [],
   "source": [
    "# If u see both x , w are gaussiian distribution  and if u multiply their std becoming very large"
   ]
  },
  {
   "cell_type": "code",
   "execution_count": 159,
   "id": "bf57c1ac-6174-4baa-bfbb-c269468ca2c9",
   "metadata": {},
   "outputs": [
    {
     "name": "stdout",
     "output_type": "stream",
     "text": [
      "tensor(0.0027) tensor(0.9988)\n",
      "tensor(0.0019) tensor(15.7905)\n"
     ]
    },
    {
     "data": {
      "image/png": "[encoded data removed]",
      "text/plain": [
       "<Figure size 2000x500 with 2 Axes>"
      ]
     },
     "metadata": {},
     "output_type": "display_data"
    }
   ],
   "source": [
    "x = torch.randn(1000,10)\n",
    "w = torch.randn(10 , 200) * 5\n",
    "y=x@w\n",
    "print(x.mean() ,x.std())\n",
    "print(y.mean(), y.std())\n",
    "\n",
    "plt.figure(figsize=(20,5))\n",
    "plt.subplot(121)\n",
    "plt.hist(x.view(-1).tolist(), 50, density=True)\n",
    "plt.subplot(122)\n",
    "plt.hist(y.view(-1).tolist(), 50, density=True)\n",
    "\n",
    "plt.show()"
   ]
  },
  {
   "cell_type": "code",
   "execution_count": 161,
   "id": "3f4706da-3ab0-41f5-a761-52e3f6c401c0",
   "metadata": {},
   "outputs": [
    {
     "name": "stdout",
     "output_type": "stream",
     "text": [
      "tensor(0.0022) tensor(1.0040)\n",
      "tensor(-0.0016) tensor(0.6396)\n"
     ]
    },
    {
     "data": {
      "image/png": "[encoded data removed]",
      "text/plain": [
       "<Figure size 2000x500 with 2 Axes>"
      ]
     },
     "metadata": {},
     "output_type": "display_data"
    }
   ],
   "source": [
    "x = torch.randn(1000,10)\n",
    "w = torch.randn(10 , 200) * 0.2\n",
    "y=x@w\n",
    "print(x.mean() ,x.std())\n",
    "print(y.mean(), y.std())\n",
    "\n",
    "plt.figure(figsize=(20,5))\n",
    "plt.subplot(121)\n",
    "plt.hist(x.view(-1).tolist(), 50, density=True)\n",
    "plt.subplot(122)\n",
    "plt.hist(y.view(-1).tolist(), 50, density=True)\n",
    "\n",
    "plt.show()"
   ]
  },
  {
   "cell_type": "code",
   "execution_count": 163,
   "id": "85ef18f7-4395-4977-8c29-2d12f4b0efa9",
   "metadata": {},
   "outputs": [],
   "source": [
    "## in order to keep the std close to 1 after x@w we need to"
   ]
  },
  {
   "cell_type": "code",
   "execution_count": 168,
   "id": "5586d834-b760-4878-b8aa-e1975a1514e5",
   "metadata": {},
   "outputs": [
    {
     "name": "stdout",
     "output_type": "stream",
     "text": [
      "tensor(-0.0156) tensor(1.0075)\n",
      "tensor(0.0015) tensor(1.0003)\n"
     ]
    },
    {
     "data": {
      "image/png": "[encoded data removed]",
      "text/plain": [
       "<Figure size 2000x500 with 2 Axes>"
      ]
     },
     "metadata": {},
     "output_type": "display_data"
    }
   ],
   "source": [
    "x = torch.randn(1000,10)\n",
    "w = torch.randn(10 , 200) / 10**0.5 # square root this is usuall we do for everything but moslty for RELU\n",
    "y=x@w\n",
    "print(x.mean() ,x.std())\n",
    "print(y.mean(), y.std())\n",
    "\n",
    "plt.figure(figsize=(20,5))\n",
    "plt.subplot(121)\n",
    "plt.hist(x.view(-1).tolist(), 50, density=True)\n",
    "plt.subplot(122)\n",
    "plt.hist(y.view(-1).tolist(), 50, density=True)\n",
    "\n",
    "plt.show()"
   ]
  },
  {
   "cell_type": "code",
   "execution_count": 170,
   "id": "fc4b5c23-acbd-4b21-b66a-a853e2ea7a71",
   "metadata": {},
   "outputs": [],
   "source": [
    "# for tanh instead of sqrt we do 5/3"
   ]
  },
  {
   "cell_type": "code",
   "execution_count": 172,
   "id": "557dd10e-1b66-4927-9ff6-536693c7a4ae",
   "metadata": {},
   "outputs": [
    {
     "data": {
      "text/plain": [
       "tensor(1.0035)"
      ]
     },
     "execution_count": 172,
     "metadata": {},
     "output_type": "execute_result"
    }
   ],
   "source": [
    "torch.randn(10000).std()"
   ]
  },
  {
   "cell_type": "code",
   "execution_count": 174,
   "id": "2faedf50-a1bf-40c9-b564-97dacc84eef6",
   "metadata": {},
   "outputs": [
    {
     "data": {
      "text/plain": [
       "tensor(0.2027)"
      ]
     },
     "execution_count": 174,
     "metadata": {},
     "output_type": "execute_result"
    }
   ],
   "source": [
    "(torch.randn(10000)*0.2).std()"
   ]
  },
  {
   "cell_type": "code",
   "execution_count": 176,
   "id": "e8d11854-ab52-4815-993d-39e391b9d5e9",
   "metadata": {},
   "outputs": [],
   "source": [
    "## so for gaussiona dist what ever u multiply u get that much"
   ]
  },
  {
   "cell_type": "code",
   "execution_count": 178,
   "id": "dfc314cb-0d93-4f05-90e6-bfb3fe2c08b7",
   "metadata": {},
   "outputs": [],
   "source": [
    "## for all there there is a suggested std deviation that is best for the model"
   ]
  },
  {
   "cell_type": "code",
   "execution_count": null,
   "id": "a9af2d20-72db-4ef0-8c07-624825ce627d",
   "metadata": {},
   "outputs": [],
   "source": [
    "## for tanh it is (5/3)/n**0.5"
   ]
  },
  {
   "cell_type": "code",
   "execution_count": 180,
   "id": "7e8b6e66-fc40-4007-bdf2-214a9cd7c269",
   "metadata": {},
   "outputs": [
    {
     "data": {
      "text/plain": [
       "30"
      ]
     },
     "execution_count": 180,
     "metadata": {},
     "output_type": "execute_result"
    }
   ],
   "source": [
    "n_embd * block_size"
   ]
  },
  {
   "cell_type": "code",
   "execution_count": 182,
   "id": "0198ab78-e90d-4251-b6c6-cf1a0851b582",
   "metadata": {},
   "outputs": [
    {
     "data": {
      "text/plain": [
       "0.3042903097250923"
      ]
     },
     "execution_count": 182,
     "metadata": {},
     "output_type": "execute_result"
    }
   ],
   "source": [
    "(5/3)/30**0.5"
   ]
  },
  {
   "cell_type": "code",
   "execution_count": 208,
   "id": "4ef659ff-7f6c-4c07-bb09-06c6f81435cd",
   "metadata": {},
   "outputs": [
    {
     "name": "stdout",
     "output_type": "stream",
     "text": [
      "11897\n"
     ]
    }
   ],
   "source": [
    "n_embd = 10\n",
    "n_hidden = 200\n",
    "\n",
    "g= torch.Generator().manual_seed(214)\n",
    "C = torch.randn((vocab_size,n_embd),generator =g)\n",
    "W1 = torch.randn((n_embd * block_size,n_hidden),generator =g) * (5/3)/((n_embd * block_size)**0.5)\n",
    "b1 = torch.randn(n_hidden , generator =g) * 0.01\n",
    "W2 = torch.randn((n_hidden , vocab_size),generator =g) * 0.01\n",
    "b2 = torch.randn(vocab_size,generator =g) * 0 \n",
    "parameters = [C,W1,b1,W2,b2]\n",
    "\n",
    "print(sum(p.nelement() for p in parameters))\n",
    "\n",
    "for p in parameters:\n",
    "    p.requires_grad = True"
   ]
  },
  {
   "cell_type": "markdown",
   "id": "48475378-ecdb-4075-8bdd-23a540a5d58d",
   "metadata": {},
   "source": [
    "## we are doing this because during the initialization we want the distribution of weights@X to be roughly gaussioan i.e std == 1 \n",
    "### as if its too distributed we will get bad tanh values as discussed above"
   ]
  },
  {
   "cell_type": "markdown",
   "id": "fe3f44e1-1bb6-480d-900d-6ead05037f50",
   "metadata": {},
   "source": [
    "#### There weight tweaking is old method cuurently we use residual connections to initialize the weights and batch normalization and other normalization and also optimizer like adam are imporved "
   ]
  },
  {
   "cell_type": "markdown",
   "id": "a592edff-a207-47cc-bd11-0138300ec91e",
   "metadata": {},
   "source": [
    "## Batch Normalization"
   ]
  },
  {
   "cell_type": "markdown",
   "id": "8f9dd43f-22ac-4f4a-b699-4bed44ff4f38",
   "metadata": {},
   "source": [
    " #### So u just normaize the hidden states to make it roughly gaussian"
   ]
  },
  {
   "cell_type": "code",
   "execution_count": 194,
   "id": "8b765c80-fa35-48cd-bef4-efc14b678ff5",
   "metadata": {
    "scrolled": true
   },
   "outputs": [
    {
     "data": {
      "text/plain": [
       "torch.Size([32, 200])"
      ]
     },
     "execution_count": 194,
     "metadata": {},
     "output_type": "execute_result"
    }
   ],
   "source": [
    "hpreact.shape"
   ]
  },
  {
   "cell_type": "code",
   "execution_count": 196,
   "id": "f958a177-c8d6-48c7-bafb-14925dae8189",
   "metadata": {},
   "outputs": [
    {
     "data": {
      "text/plain": [
       "torch.Size([1, 200])"
      ]
     },
     "execution_count": 196,
     "metadata": {},
     "output_type": "execute_result"
    }
   ],
   "source": [
    "hpreact.mean(0, keepdim = True).shape"
   ]
  },
  {
   "cell_type": "code",
   "execution_count": 198,
   "id": "37c98a63-6c64-4758-a088-fbdfe2eb47cb",
   "metadata": {},
   "outputs": [
    {
     "data": {
      "text/plain": [
       "torch.Size([1, 200])"
      ]
     },
     "execution_count": 198,
     "metadata": {},
     "output_type": "execute_result"
    }
   ],
   "source": [
    "hpreact.std(0, keepdim = True).shape"
   ]
  },
  {
   "cell_type": "code",
   "execution_count": 200,
   "id": "89b95f6e-171d-4f35-8bc0-00739267dfa0",
   "metadata": {},
   "outputs": [],
   "source": [
    "# norm =  X- mu / sigma"
   ]
  },
  {
   "cell_type": "code",
   "execution_count": 212,
   "id": "ce0f6e68-19db-492f-8027-ab89d5e56001",
   "metadata": {},
   "outputs": [],
   "source": [
    "# all this is differentiable and we call it batch as we are standerdizing by batch"
   ]
  },
  {
   "cell_type": "code",
   "execution_count": 210,
   "id": "c20be31a-4dcb-4e77-ab6f-b04b9a819d82",
   "metadata": {},
   "outputs": [
    {
     "name": "stdout",
     "output_type": "stream",
     "text": [
      "      0/ 200000: 3.2914\n"
     ]
    }
   ],
   "source": [
    "max_steps = 200000\n",
    "batch_size = 32\n",
    "lossi=[]\n",
    "\n",
    "for i in range(max_steps):\n",
    "  \n",
    "  # minibatch construct\n",
    "  ix = torch.randint(0, Xtr.shape[0], (batch_size,) , generator = g)\n",
    "  Xb ,Yb = Xtr[ix], Ytr[ix] # batch X,Y\n",
    "  \n",
    "  # forward pass\n",
    "  emb = C[Xb] # (32, 3, 10)\n",
    "  embcat = emb.view(emb.shape[0] ,-1) #concate vectors\n",
    "  hpreact = embcat @ W1 + b1 # hiddedn pre activation\n",
    "  hpreact = (hpreact - hpreact.mean(0, keepdim = True)) / hpreact.std(0, keepdim = True)\n",
    "    # norm =  X- mu / sigma\n",
    "  h = torch.tanh(hpreact) # hidden\n",
    "  logits = h @ W2 + b2 # out\n",
    "  loss = F.cross_entropy(logits, Yb)\n",
    "  #print(loss.item())\n",
    "  \n",
    "  # backward pass\n",
    "  for p in parameters:\n",
    "    p.grad = None\n",
    "  loss.backward()\n",
    "  \n",
    "  # update\n",
    "  #lr = lrs[i]\n",
    "  lr = 0.1 if i < 100000 else 0.01\n",
    "  for p in parameters:\n",
    "    p.data += -lr * p.grad\n",
    "\n",
    "  # track stats\n",
    "  #lri.append(lre[i])\n",
    "  if i % 10000 == 0: # print every once in a while\n",
    "    print(f'{i:7d}/{max_steps:7d}: {loss.item():.4f}')\n",
    "  lossi.append(loss.log10().item())\n",
    "  break\n",
    "#print(loss.item())"
   ]
  },
  {
   "cell_type": "markdown",
   "id": "de881dcb-fee3-4984-b2df-bbede3bc82f9",
   "metadata": {},
   "source": [
    "### we want these weights to be gaussian only at initialization and we dont want to force it for all the iterations.\n",
    "### So we use some scaling parameters at first we multiply with 1 and add with 0 so at start it will star with gaussion dist and then during back prop it will change these parameters"
   ]
  },
  {
   "cell_type": "code",
   "execution_count": 217,
   "id": "ddc1c2fc-9bb5-4f00-9d7e-f78ded5c0c7d",
   "metadata": {},
   "outputs": [
    {
     "name": "stdout",
     "output_type": "stream",
     "text": [
      "12297\n"
     ]
    }
   ],
   "source": [
    "n_embd = 10\n",
    "n_hidden = 200\n",
    "\n",
    "g= torch.Generator().manual_seed(214)\n",
    "C = torch.randn((vocab_size,n_embd),generator =g)\n",
    "W1 = torch.randn((n_embd * block_size,n_hidden),generator =g) * (5/3)/((n_embd * block_size)**0.5)\n",
    "b1 = torch.randn(n_hidden , generator =g) * 0.01\n",
    "W2 = torch.randn((n_hidden , vocab_size),generator =g) * 0.01\n",
    "b2 = torch.randn(vocab_size,generator =g) * 0 \n",
    "\n",
    "\n",
    "\n",
    "bngain = torch.ones((1,n_hidden))\n",
    "bnbias = torch.zeros((1,n_hidden))\n",
    "\n",
    "parameters = [C,W1,b1,W2,b2,bngain,bnbias]\n",
    "\n",
    "print(sum(p.nelement() for p in parameters))\n",
    "\n",
    "for p in parameters:\n",
    "    p.requires_grad = True"
   ]
  },
  {
   "cell_type": "code",
   "execution_count": 221,
   "id": "7eb185a1-d412-4f18-a274-cc65ff569e58",
   "metadata": {},
   "outputs": [
    {
     "name": "stdout",
     "output_type": "stream",
     "text": [
      "      0/ 200000: 3.3241\n",
      "  10000/ 200000: 2.2082\n",
      "  20000/ 200000: 2.2799\n",
      "  30000/ 200000: 1.9561\n",
      "  40000/ 200000: 2.2341\n",
      "  50000/ 200000: 1.8756\n",
      "  60000/ 200000: 2.1382\n",
      "  70000/ 200000: 1.7352\n",
      "  80000/ 200000: 2.0401\n",
      "  90000/ 200000: 1.9723\n",
      " 100000/ 200000: 2.1778\n",
      " 110000/ 200000: 1.6824\n",
      " 120000/ 200000: 2.2427\n",
      " 130000/ 200000: 2.4277\n",
      " 140000/ 200000: 1.7366\n",
      " 150000/ 200000: 2.4130\n",
      " 160000/ 200000: 1.9599\n",
      " 170000/ 200000: 1.8940\n",
      " 180000/ 200000: 2.1312\n",
      " 190000/ 200000: 1.9548\n"
     ]
    }
   ],
   "source": [
    "max_steps = 200000\n",
    "batch_size = 32\n",
    "lossi=[]\n",
    "\n",
    "for i in range(max_steps):\n",
    "  \n",
    "  # minibatch construct\n",
    "  ix = torch.randint(0, Xtr.shape[0], (batch_size,) , generator = g)\n",
    "  Xb ,Yb = Xtr[ix], Ytr[ix] # batch X,Y\n",
    "  \n",
    "  # forward pass\n",
    "  emb = C[Xb] # (32, 3, 10)\n",
    "  embcat = emb.view(emb.shape[0] ,-1) #concate vectors\n",
    "  hpreact = embcat @ W1 + b1 # hiddedn pre activation\n",
    "  hpreact = bngain*(hpreact - hpreact.mean(0, keepdim = True)) / hpreact.std(0, keepdim = True) + bnbias\n",
    "    # norm =  X- mu / sigma\n",
    "  h = torch.tanh(hpreact) # hidden\n",
    "  logits = h @ W2 + b2 # out\n",
    "  loss = F.cross_entropy(logits, Yb)\n",
    "  #print(loss.item())\n",
    "  \n",
    "  # backward pass\n",
    "  for p in parameters:\n",
    "    p.grad = None\n",
    "  loss.backward()\n",
    "  \n",
    "  # update\n",
    "  #lr = lrs[i]\n",
    "  lr = 0.1 if i < 100000 else 0.01\n",
    "  for p in parameters:\n",
    "    p.data += -lr * p.grad\n",
    "\n",
    "  # track stats\n",
    "  #lri.append(lre[i])\n",
    "  if i % 10000 == 0: # print every once in a while\n",
    "    print(f'{i:7d}/{max_steps:7d}: {loss.item():.4f}')\n",
    "  lossi.append(loss.log10().item())\n",
    "  # break\n",
    "#print(loss.item())"
   ]
  },
  {
   "cell_type": "code",
   "execution_count": 223,
   "id": "06b05dde-7deb-4b00-bcba-8909d68847ec",
   "metadata": {},
   "outputs": [],
   "source": [
    "# adding Batch normalizaion at test time also"
   ]
  },
  {
   "cell_type": "code",
   "execution_count": 224,
   "id": "e40b088f-e28c-4af1-99c1-65d804942847",
   "metadata": {},
   "outputs": [
    {
     "name": "stdout",
     "output_type": "stream",
     "text": [
      "train 2.067873954772949\n",
      "val 2.1115970611572266\n"
     ]
    }
   ],
   "source": [
    "@torch.no_grad() # this decorator disables gradient tracking\n",
    "def split_loss(split):\n",
    "  x,y = {\n",
    "    'train': (Xtr, Ytr),\n",
    "    'val': (Xdev, Ydev),\n",
    "    'test': (Xte, Yte),\n",
    "  }[split]\n",
    "  emb = C[x] # (N, block_size, n_embd)\n",
    "  embcat = emb.view(emb.shape[0], -1) # concat into (N, block_size * n_embd)\n",
    "  hpreact = embcat @ W1 # + b1\n",
    "  hpreact = bngain*(hpreact - hpreact.mean(0, keepdim = True)) / hpreact.std(0, keepdim = True) + bnbias\n",
    "  h = torch.tanh(hpreact) # (N, n_hidden)\n",
    "  logits = h @ W2 + b2 # (N, vocab_size)\n",
    "  loss = F.cross_entropy(logits, y)\n",
    "  print(split, loss.item())\n",
    "\n",
    "split_loss('train')\n",
    "split_loss('val')"
   ]
  },
  {
   "cell_type": "markdown",
   "id": "a5072941-2d50-4fc5-bed4-f76bf8b7b70c",
   "metadata": {},
   "source": [
    "### Here batch normalization expects batch , so during inference if u need only one sample it wont work"
   ]
  },
  {
   "cell_type": "code",
   "execution_count": 235,
   "id": "4b7a0fa9-bdc7-4eca-b30f-7f69040ad7c5",
   "metadata": {},
   "outputs": [],
   "source": [
    "### SO u keep track of  bnmean_running,bnstd_running during training of NN"
   ]
  },
  {
   "cell_type": "code",
   "execution_count": 231,
   "id": "980cc38c-73cc-469d-a860-4990c7cbfd1e",
   "metadata": {},
   "outputs": [
    {
     "name": "stdout",
     "output_type": "stream",
     "text": [
      "12297\n"
     ]
    }
   ],
   "source": [
    "n_embd = 10\n",
    "n_hidden = 200\n",
    "\n",
    "g= torch.Generator().manual_seed(214)\n",
    "C = torch.randn((vocab_size,n_embd),generator =g)\n",
    "W1 = torch.randn((n_embd * block_size,n_hidden),generator =g) * (5/3)/((n_embd * block_size)**0.5)\n",
    "b1 = torch.randn(n_hidden , generator =g) * 0.01\n",
    "W2 = torch.randn((n_hidden , vocab_size),generator =g) * 0.01\n",
    "b2 = torch.randn(vocab_size,generator =g) * 0 \n",
    "\n",
    "\n",
    "\n",
    "bngain = torch.ones((1,n_hidden))\n",
    "bnbias = torch.zeros((1,n_hidden))\n",
    "bnmean_running = torch.zeros((1, n_hidden))\n",
    "bnstd_running = torch.ones((1, n_hidden))\n",
    "\n",
    "parameters = [C,W1,b1,W2,b2,bngain,bnbias]\n",
    "\n",
    "print(sum(p.nelement() for p in parameters))\n",
    "\n",
    "for p in parameters:\n",
    "    p.requires_grad = True"
   ]
  },
  {
   "cell_type": "code",
   "execution_count": 233,
   "id": "9ea7edd2-7b12-4526-a352-48daedae823a",
   "metadata": {},
   "outputs": [
    {
     "name": "stdout",
     "output_type": "stream",
     "text": [
      "      0/ 200000: 3.2914\n"
     ]
    }
   ],
   "source": [
    "max_steps = 200000\n",
    "batch_size = 32\n",
    "lossi=[]\n",
    "\n",
    "for i in range(max_steps):\n",
    "  \n",
    "  # minibatch construct\n",
    "  ix = torch.randint(0, Xtr.shape[0], (batch_size,) , generator = g)\n",
    "  Xb ,Yb = Xtr[ix], Ytr[ix] # batch X,Y\n",
    "  \n",
    "  # forward pass\n",
    "  emb = C[Xb] # (32, 3, 10)\n",
    "  embcat = emb.view(emb.shape[0] ,-1) #concate vectors\n",
    "  hpreact = embcat @ W1 + b1 # hiddedn pre activation\n",
    "  # hpreact = bngain*(hpreact - hpreact.mean(0, keepdim = True)) / hpreact.std(0, keepdim = True) + bnbias\n",
    "    # norm =  X- mu / sigma\n",
    "  bnmeani = hpreact.mean(0, keepdim=True)\n",
    "  bnstdi = hpreact.std(0, keepdim=True)\n",
    "  hpreact = bngain * (hpreact - bnmeani) / bnstdi + bnbias\n",
    "  with torch.no_grad():\n",
    "    bnmean_running = 0.999 * bnmean_running + 0.001 * bnmeani\n",
    "    bnstd_running = 0.999 * bnstd_running + 0.001 * bnstdi\n",
    "      \n",
    "  h = torch.tanh(hpreact) # hidden\n",
    "  logits = h @ W2 + b2 # out\n",
    "  loss = F.cross_entropy(logits, Yb)\n",
    "  #print(loss.item())\n",
    "  \n",
    "  # backward pass\n",
    "  for p in parameters:\n",
    "    p.grad = None\n",
    "  loss.backward()\n",
    "  \n",
    "  # update\n",
    "  #lr = lrs[i]\n",
    "  lr = 0.1 if i < 100000 else 0.01\n",
    "  for p in parameters:\n",
    "    p.data += -lr * p.grad\n",
    "\n",
    "  # track stats\n",
    "  #lri.append(lre[i])\n",
    "  if i % 10000 == 0: # print every once in a while\n",
    "    print(f'{i:7d}/{max_steps:7d}: {loss.item():.4f}')\n",
    "  lossi.append(loss.log10().item())\n",
    "  break\n",
    "#print(loss.item())"
   ]
  },
  {
   "cell_type": "code",
   "execution_count": 237,
   "id": "7a8f75a8-4426-4ea6-8c59-e294fe42be2e",
   "metadata": {},
   "outputs": [
    {
     "name": "stdout",
     "output_type": "stream",
     "text": [
      "train 3.2792696952819824\n",
      "val 3.2793285846710205\n"
     ]
    }
   ],
   "source": [
    "@torch.no_grad() # this decorator disables gradient tracking\n",
    "def split_loss(split):\n",
    "  x,y = {\n",
    "    'train': (Xtr, Ytr),\n",
    "    'val': (Xdev, Ydev),\n",
    "    'test': (Xte, Yte),\n",
    "  }[split]\n",
    "  emb = C[x] # (N, block_size, n_embd)\n",
    "  embcat = emb.view(emb.shape[0], -1) # concat into (N, block_size * n_embd)\n",
    "  hpreact = embcat @ W1 # + b1\n",
    "  #hpreact = bngain * (hpreact - hpreact.mean(0, keepdim=True)) / hpreact.std(0, keepdim=True) + bnbias\n",
    "  hpreact = bngain * (hpreact - bnmean_running) / bnstd_running + bnbias\n",
    "  h = torch.tanh(hpreact) # (N, n_hidden)\n",
    "  logits = h @ W2 + b2 # (N, vocab_size)\n",
    "  loss = F.cross_entropy(logits, y)\n",
    "  print(split, loss.item())\n",
    "\n",
    "split_loss('train')\n",
    "split_loss('val')"
   ]
  },
  {
   "cell_type": "markdown",
   "id": "ace82fb6-3f62-41fd-bc00-15a84cda1f2c",
   "metadata": {},
   "source": [
    "#### when using the batch norm the layer before batch norm baises will not be usefull so we generally remove those as batch norm has its own \"bnbias\" it worksk fine"
   ]
  },
  {
   "cell_type": "markdown",
   "id": "e5a75541-b753-425f-a9e0-5b2d53c31859",
   "metadata": {},
   "source": [
    "### BATCH NORM - To control the statistics of weights"
   ]
  },
  {
   "cell_type": "code",
   "execution_count": 246,
   "id": "e407af59-96dc-4c37-888a-61cfcd3f1a02",
   "metadata": {},
   "outputs": [],
   "source": [
    "## we can do weigts vs grad\n",
    "## grad upadtes vd data graphs"
   ]
  },
  {
   "cell_type": "code",
   "execution_count": null,
   "id": "7992e955-4799-42d8-9c9d-e0da06e61870",
   "metadata": {},
   "outputs": [],
   "source": []
  }
 ],
 "metadata": {
  "kernelspec": {
   "display_name": "Python [conda env:base] *",
   "language": "python",
   "name": "conda-base-py"
  },
  "language_info": {
   "codemirror_mode": {
    "name": "ipython",
    "version": 3
   },
   "file_extension": ".py",
   "mimetype": "text/x-python",
   "name": "python",
   "nbconvert_exporter": "python",
   "pygments_lexer": "ipython3",
   "version": "3.12.7"
  }
 },
 "nbformat": 4,
 "nbformat_minor": 5
}
