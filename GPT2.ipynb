{
 "cells": [
  {
   "cell_type": "code",
   "execution_count": 3,
   "id": "7fc34242-afe4-47a5-bc56-2e0b19676a6d",
   "metadata": {},
   "outputs": [],
   "source": [
    "with open('input.txt', 'r', encoding='utf-8') as f:\n",
    "    text = f.read()"
   ]
  },
  {
   "cell_type": "code",
   "execution_count": 5,
   "id": "abadfdd4-b6f5-4aec-a439-18968fd6bb27",
   "metadata": {},
   "outputs": [
    {
     "name": "stdout",
     "output_type": "stream",
     "text": [
      "length of dataset in characters:  1115394\n"
     ]
    }
   ],
   "source": [
    "print(\"length of dataset in characters: \", len(text))"
   ]
  },
  {
   "cell_type": "code",
   "execution_count": 9,
   "id": "777294d6-c9d2-4eb3-90d7-007c5f1469d9",
   "metadata": {},
   "outputs": [
    {
     "name": "stdout",
     "output_type": "stream",
     "text": [
      "First Citizen:\n",
      "Before we proceed any further, hear me speak.\n",
      "\n",
      "All:\n",
      "Speak, speak.\n",
      "\n",
      "First Citizen:\n",
      "You\n"
     ]
    }
   ],
   "source": [
    "print(text[:100])"
   ]
  },
  {
   "cell_type": "code",
   "execution_count": 13,
   "id": "7881f8d2-25eb-47f8-b560-dde42ecd5d41",
   "metadata": {},
   "outputs": [
    {
     "name": "stdout",
     "output_type": "stream",
     "text": [
      "\n",
      " !$&',-.3:;?ABCDEFGHIJKLMNOPQRSTUVWXYZabcdefghijklmnopqrstuvwxyz\n"
     ]
    }
   ],
   "source": [
    "chars = sorted(list(set(text)))\n",
    "print(''.join(chars))"
   ]
  },
  {
   "cell_type": "code",
   "execution_count": 15,
   "id": "5faa05e9-d4e1-4cb4-b91e-2cda222297bb",
   "metadata": {},
   "outputs": [
    {
     "name": "stdout",
     "output_type": "stream",
     "text": [
      "65\n"
     ]
    }
   ],
   "source": [
    "print(len(chars))"
   ]
  },
  {
   "cell_type": "code",
   "execution_count": 133,
   "id": "01053d01-96ff-407c-91a8-6d667e14c327",
   "metadata": {},
   "outputs": [],
   "source": [
    "vocab_size = len(chars)"
   ]
  },
  {
   "cell_type": "code",
   "execution_count": 135,
   "id": "f213f912-c8f0-4a27-8465-7771825da09c",
   "metadata": {},
   "outputs": [],
   "source": [
    "stoi ={ch:i  for i,ch in enumerate(chars)}\n",
    "encode = lambda s:[stoi[i] for i in s]"
   ]
  },
  {
   "cell_type": "code",
   "execution_count": 137,
   "id": "c626c20c-4e74-476b-93bf-61348d0dcf00",
   "metadata": {},
   "outputs": [
    {
     "data": {
      "text/plain": [
       "[41, 42]"
      ]
     },
     "execution_count": 137,
     "metadata": {},
     "output_type": "execute_result"
    }
   ],
   "source": [
    "encode(\"cd\")"
   ]
  },
  {
   "cell_type": "code",
   "execution_count": 25,
   "id": "d98a4041-3ac3-4f5c-b4f5-864bde7e125b",
   "metadata": {},
   "outputs": [],
   "source": [
    "itos = {i:ch for i,ch in enumerate(chars)}\n",
    "decode = lambda l: ''.join(itos[i] for i in l)"
   ]
  },
  {
   "cell_type": "code",
   "execution_count": 27,
   "id": "f0f1e3aa-e5e4-4d3a-a6ab-ba3b1f181c43",
   "metadata": {},
   "outputs": [
    {
     "data": {
      "text/plain": [
       "'cd'"
      ]
     },
     "execution_count": 27,
     "metadata": {},
     "output_type": "execute_result"
    }
   ],
   "source": [
    "decode([41, 42])"
   ]
  },
  {
   "cell_type": "code",
   "execution_count": 77,
   "id": "993bdf4c-faaf-4f1f-92ef-bb53e42eaf4d",
   "metadata": {},
   "outputs": [],
   "source": [
    "# Open AI uses tiktoken to encode , here we have 65 possible tokens but tiktoken has 50257 "
   ]
  },
  {
   "cell_type": "code",
   "execution_count": 29,
   "id": "ddb072bc-8799-4b56-9504-4c194bd41988",
   "metadata": {},
   "outputs": [],
   "source": [
    "import torch "
   ]
  },
  {
   "cell_type": "code",
   "execution_count": 31,
   "id": "4fb4b730-b426-4920-9248-94ce0cb0975e",
   "metadata": {},
   "outputs": [],
   "source": [
    "data = torch.tensor(encode(text), dtype=torch.long)"
   ]
  },
  {
   "cell_type": "code",
   "execution_count": 35,
   "id": "03a1b6da-3f6b-4acf-b298-7819c5543e94",
   "metadata": {},
   "outputs": [
    {
     "name": "stdout",
     "output_type": "stream",
     "text": [
      "torch.Size([1115394]) torch.int64\n"
     ]
    }
   ],
   "source": [
    "print(data.shape , data.dtype)"
   ]
  },
  {
   "cell_type": "code",
   "execution_count": 39,
   "id": "b4157195-abcd-476c-8007-58950c92c422",
   "metadata": {},
   "outputs": [
    {
     "name": "stdout",
     "output_type": "stream",
     "text": [
      "tensor([18, 47, 56, 57, 58,  1, 15, 47, 58, 47, 64, 43, 52, 10,  0])\n"
     ]
    }
   ],
   "source": [
    "print(data[:15])"
   ]
  },
  {
   "cell_type": "code",
   "execution_count": 41,
   "id": "62a73910-bfd9-4578-9cd9-887fd32ac088",
   "metadata": {},
   "outputs": [
    {
     "data": {
      "text/plain": [
       "1115394"
      ]
     },
     "execution_count": 41,
     "metadata": {},
     "output_type": "execute_result"
    }
   ],
   "source": [
    "len(data)"
   ]
  },
  {
   "cell_type": "code",
   "execution_count": 71,
   "id": "8edfefae-a8a7-4a1d-97b5-38e3585bf6be",
   "metadata": {},
   "outputs": [],
   "source": [
    "# split up the data into train and validation sets\n",
    "n =  int(0.9*len(data))\n",
    "train_data = data[:n]\n",
    "test_data = data[n:]"
   ]
  },
  {
   "cell_type": "code",
   "execution_count": 139,
   "id": "0ff91da9-2641-4de4-92d4-20adb5885951",
   "metadata": {},
   "outputs": [
    {
     "data": {
      "text/plain": [
       "tensor([18, 47, 56, 57, 58,  1, 15, 47, 58])"
      ]
     },
     "execution_count": 139,
     "metadata": {},
     "output_type": "execute_result"
    }
   ],
   "source": [
    "block_size = 8\n",
    "train_data[:block_size+1]"
   ]
  },
  {
   "cell_type": "code",
   "execution_count": 141,
   "id": "35b2f1c3-5564-4908-a480-125c1f2b1dd0",
   "metadata": {},
   "outputs": [
    {
     "name": "stdout",
     "output_type": "stream",
     "text": [
      "when input is tensor([18]) the target: 47\n",
      "when input is tensor([18, 47]) the target: 56\n",
      "when input is tensor([18, 47, 56]) the target: 57\n",
      "when input is tensor([18, 47, 56, 57]) the target: 58\n",
      "when input is tensor([18, 47, 56, 57, 58]) the target: 1\n",
      "when input is tensor([18, 47, 56, 57, 58,  1]) the target: 15\n",
      "when input is tensor([18, 47, 56, 57, 58,  1, 15]) the target: 47\n",
      "when input is tensor([18, 47, 56, 57, 58,  1, 15, 47]) the target: 58\n"
     ]
    }
   ],
   "source": [
    "x = train_data[:block_size]\n",
    "y = train_data[1:block_size+1]\n",
    "for t in range(block_size):\n",
    "    context = x[:t+1]\n",
    "    target = y[t]\n",
    "    print(f\"when input is {context} the target: {target}\")"
   ]
  },
  {
   "cell_type": "code",
   "execution_count": 89,
   "id": "02ded347-ee27-4ffc-b34d-e61c00276210",
   "metadata": {},
   "outputs": [
    {
     "data": {
      "text/plain": [
       "tensor([54, 27])"
      ]
     },
     "execution_count": 89,
     "metadata": {},
     "output_type": "execute_result"
    }
   ],
   "source": [
    "torch.randint(120 ,(2,))"
   ]
  },
  {
   "cell_type": "code",
   "execution_count": 143,
   "id": "27247795-e68d-4701-b31f-1ce80e3d82d8",
   "metadata": {},
   "outputs": [
    {
     "name": "stdout",
     "output_type": "stream",
     "text": [
      "inputs:\n",
      "torch.Size([4, 8])\n",
      "tensor([[24, 43, 58,  5, 57,  1, 46, 43],\n",
      "        [44, 53, 56,  1, 58, 46, 39, 58],\n",
      "        [52, 58,  1, 58, 46, 39, 58,  1],\n",
      "        [25, 17, 27, 10,  0, 21,  1, 54]])\n",
      "targets:\n",
      "torch.Size([4, 8])\n",
      "tensor([[43, 58,  5, 57,  1, 46, 43, 39],\n",
      "        [53, 56,  1, 58, 46, 39, 58,  1],\n",
      "        [58,  1, 58, 46, 39, 58,  1, 46],\n",
      "        [17, 27, 10,  0, 21,  1, 54, 39]])\n",
      "----\n",
      "when input is [24] the target: 43\n",
      "when input is [24, 43] the target: 58\n",
      "when input is [24, 43, 58] the target: 5\n",
      "when input is [24, 43, 58, 5] the target: 57\n",
      "when input is [24, 43, 58, 5, 57] the target: 1\n",
      "when input is [24, 43, 58, 5, 57, 1] the target: 46\n",
      "when input is [24, 43, 58, 5, 57, 1, 46] the target: 43\n",
      "when input is [24, 43, 58, 5, 57, 1, 46, 43] the target: 39\n",
      "when input is [44] the target: 53\n",
      "when input is [44, 53] the target: 56\n",
      "when input is [44, 53, 56] the target: 1\n",
      "when input is [44, 53, 56, 1] the target: 58\n",
      "when input is [44, 53, 56, 1, 58] the target: 46\n",
      "when input is [44, 53, 56, 1, 58, 46] the target: 39\n",
      "when input is [44, 53, 56, 1, 58, 46, 39] the target: 58\n",
      "when input is [44, 53, 56, 1, 58, 46, 39, 58] the target: 1\n",
      "when input is [52] the target: 58\n",
      "when input is [52, 58] the target: 1\n",
      "when input is [52, 58, 1] the target: 58\n",
      "when input is [52, 58, 1, 58] the target: 46\n",
      "when input is [52, 58, 1, 58, 46] the target: 39\n",
      "when input is [52, 58, 1, 58, 46, 39] the target: 58\n",
      "when input is [52, 58, 1, 58, 46, 39, 58] the target: 1\n",
      "when input is [52, 58, 1, 58, 46, 39, 58, 1] the target: 46\n",
      "when input is [25] the target: 17\n",
      "when input is [25, 17] the target: 27\n",
      "when input is [25, 17, 27] the target: 10\n",
      "when input is [25, 17, 27, 10] the target: 0\n",
      "when input is [25, 17, 27, 10, 0] the target: 21\n",
      "when input is [25, 17, 27, 10, 0, 21] the target: 1\n",
      "when input is [25, 17, 27, 10, 0, 21, 1] the target: 54\n",
      "when input is [25, 17, 27, 10, 0, 21, 1, 54] the target: 39\n"
     ]
    }
   ],
   "source": [
    "torch.manual_seed(1337)\n",
    "batch_size = 4 # how many independent sequences will we process in parallel?\n",
    "block_size = 8 # what is the maximum context length for predictions?\n",
    "\n",
    "def get_batch(split):\n",
    "    # generate a small batch of data of inputs x and targets y\n",
    "    data = train_data if split == 'train' else val_data\n",
    "    ix = torch.randint(len(data) - block_size, (batch_size,))\n",
    "    # print(\"ix\" , ix)\n",
    "    x = torch.stack([data[i:i+block_size] for i in ix])\n",
    "    # print(\"x\" , x)\n",
    "    y = torch.stack([data[i+1:i+block_size+1] for i in ix])\n",
    "    # print(\"y\", y)\n",
    "    return x, y\n",
    "\n",
    "xb, yb = get_batch('train')\n",
    "print('inputs:')\n",
    "print(xb.shape)\n",
    "print(xb)\n",
    "print('targets:')\n",
    "print(yb.shape)\n",
    "print(yb)\n",
    "\n",
    "print('----')\n",
    "\n",
    "for b in range(batch_size): # batch dimension\n",
    "    for t in range(block_size): # time dimension\n",
    "        context = xb[b, :t+1]\n",
    "        target = yb[b,t]\n",
    "        print(f\"when input is {context.tolist()} the target: {target}\")"
   ]
  },
  {
   "cell_type": "code",
   "execution_count": 145,
   "id": "0ed824ce-f01f-4d2e-b3e1-b4c53c0064ff",
   "metadata": {},
   "outputs": [
    {
     "name": "stdout",
     "output_type": "stream",
     "text": [
      "tensor([[24, 43, 58,  5, 57,  1, 46, 43],\n",
      "        [44, 53, 56,  1, 58, 46, 39, 58],\n",
      "        [52, 58,  1, 58, 46, 39, 58,  1],\n",
      "        [25, 17, 27, 10,  0, 21,  1, 54]])\n"
     ]
    }
   ],
   "source": [
    "print(xb) # our input to the transformer"
   ]
  },
  {
   "cell_type": "code",
   "execution_count": 127,
   "id": "29e82062-1409-40c4-a82c-df91294b39c4",
   "metadata": {},
   "outputs": [],
   "source": [
    "a = torch.tensor([[24, 43, 58]])\n",
    "a = torch.tensor([[24, 43, 58]])"
   ]
  },
  {
   "cell_type": "code",
   "execution_count": 147,
   "id": "0e92ef7e-e535-478b-ab7d-539003a415aa",
   "metadata": {},
   "outputs": [
    {
     "name": "stdout",
     "output_type": "stream",
     "text": [
      "tensor([[-1.5101, -0.0948,  1.0927,  ..., -0.6126, -0.6597,  0.7624],\n",
      "        [ 0.3323, -0.0872, -0.7470,  ..., -0.6716, -0.9572, -0.9594],\n",
      "        [ 0.2475, -0.6349, -1.2909,  ...,  1.3064, -0.2256, -1.8305],\n",
      "        ...,\n",
      "        [-2.1910, -0.7574,  1.9656,  ..., -0.3580,  0.8585, -0.6161],\n",
      "        [ 0.5978, -0.0514, -0.0646,  ..., -1.4649, -2.0555,  1.8275],\n",
      "        [-0.6787,  0.8662, -1.6433,  ...,  2.3671, -0.7775, -0.2586]],\n",
      "       grad_fn=<ViewBackward0>)\n"
     ]
    },
    {
     "ename": "ValueError",
     "evalue": "too many values to unpack (expected 2)",
     "output_type": "error",
     "traceback": [
      "\u001b[1;31m---------------------------------------------------------------------------\u001b[0m",
      "\u001b[1;31mValueError\u001b[0m                                Traceback (most recent call last)",
      "Cell \u001b[1;32mIn[147], line 24\u001b[0m\n\u001b[0;32m     22\u001b[0m         \u001b[38;5;28;01mreturn\u001b[39;00m logits\n\u001b[0;32m     23\u001b[0m m \u001b[38;5;241m=\u001b[39m BigramLanguageModel(vocab_size)\n\u001b[1;32m---> 24\u001b[0m logits , loss \u001b[38;5;241m=\u001b[39m m(xb,yb)\n\u001b[0;32m     25\u001b[0m \u001b[38;5;28mprint\u001b[39m(loss)\n",
      "\u001b[1;31mValueError\u001b[0m: too many values to unpack (expected 2)"
     ]
    }
   ],
   "source": [
    "import torch\n",
    "import torch.nn as nn\n",
    "from torch.nn import functional as F\n",
    "torch.manual_seed(1337)\n",
    "\n",
    "class BigramLanguageModel(nn.Module):\n",
    "\n",
    "    def __init__(self, vocab_size):\n",
    "        super().__init__()\n",
    "        # each token directly reads off the logits for the next token from a lookup table\n",
    "        self.token_embedding_table = nn.Embedding(vocab_size, vocab_size)\n",
    "        # print(self.token_embedding_table)\n",
    "    def forward(self, idx, targets):\n",
    "\n",
    "        # idx and targets are both (B,T) tensor of integers\n",
    "        logits = self.token_embedding_table(idx) # (B,T,C)\n",
    "        B,T,C = logits.shape\n",
    "        logits = logits.view(B*T,C)\n",
    "        targets = targets.view(B*T)\n",
    "        loss = F.cross_entropy(logits,targets)\n",
    "        print(logits)\n",
    "        return logits\n",
    "m = BigramLanguageModel(vocab_size)\n",
    "logits , loss = m(xb,yb)\n",
    "print(loss)\n",
    "# out = m(a,b)\n",
    "# print(out.shape) "
   ]
  },
  {
   "cell_type": "code",
   "execution_count": 149,
   "id": "42a34d57-fc95-42e5-aedc-180b597564a1",
   "metadata": {},
   "outputs": [
    {
     "name": "stdout",
     "output_type": "stream",
     "text": [
      "torch.Size([32, 65])\n",
      "tensor(4.8786, grad_fn=<NllLossBackward0>)\n",
      "\n",
      "Sr?qP-QWktXoL&jLDJgOLVz'RIoDqHdhsV&vLLxatjscMpwLERSPyao.qfzs$Ys$zF-w,;eEkzxjgCKFChs!iWW.ObzDnxA Ms$3\n"
     ]
    }
   ],
   "source": [
    "import torch\n",
    "import torch.nn as nn\n",
    "from torch.nn import functional as F\n",
    "torch.manual_seed(1337)\n",
    "\n",
    "class BigramLanguageModel(nn.Module):\n",
    "\n",
    "    def __init__(self, vocab_size):\n",
    "        super().__init__()\n",
    "        # each token directly reads off the logits for the next token from a lookup table\n",
    "        self.token_embedding_table = nn.Embedding(vocab_size, vocab_size)\n",
    "\n",
    "    def forward(self, idx, targets=None):\n",
    "\n",
    "        # idx and targets are both (B,T) tensor of integers\n",
    "        logits = self.token_embedding_table(idx) # (B,T,C)\n",
    "\n",
    "        if targets is None:\n",
    "            loss = None\n",
    "        else:\n",
    "            B, T, C = logits.shape\n",
    "            logits = logits.view(B*T, C)\n",
    "            targets = targets.view(B*T)\n",
    "            loss = F.cross_entropy(logits, targets)\n",
    "\n",
    "        return logits, loss\n",
    "\n",
    "    def generate(self, idx, max_new_tokens):\n",
    "        # idx is (B, T) array of indices in the current context\n",
    "        for _ in range(max_new_tokens):\n",
    "            # get the predictions\n",
    "            logits, loss = self(idx)\n",
    "            # focus only on the last time step\n",
    "            logits = logits[:, -1, :] # becomes (B, C)\n",
    "            # apply softmax to get probabilities\n",
    "            probs = F.softmax(logits, dim=-1) # (B, C)\n",
    "            # sample from the distribution\n",
    "            idx_next = torch.multinomial(probs, num_samples=1) # (B, 1)\n",
    "            # append sampled index to the running sequence\n",
    "            idx = torch.cat((idx, idx_next), dim=1) # (B, T+1)\n",
    "        return idx\n",
    "\n",
    "m = BigramLanguageModel(vocab_size)\n",
    "logits, loss = m(xb, yb)\n",
    "print(logits.shape)\n",
    "print(loss)\n",
    "\n",
    "print(decode(m.generate(idx = torch.zeros((1, 1), dtype=torch.long), max_new_tokens=100)[0].tolist()))\n"
   ]
  },
  {
   "cell_type": "code",
   "execution_count": 151,
   "id": "9e1bc010-0542-4bd0-a5c9-23db6172b434",
   "metadata": {},
   "outputs": [],
   "source": [
    "optimizer = torch.optim.AdamW(m.parameters(), lr=1e-3)"
   ]
  },
  {
   "cell_type": "code",
   "execution_count": 173,
   "id": "824ac941-a586-40a4-9dd2-b821a04f8815",
   "metadata": {},
   "outputs": [
    {
     "name": "stdout",
     "output_type": "stream",
     "text": [
      "2.5608952045440674\n"
     ]
    }
   ],
   "source": [
    "batch_size = 32\n",
    "for steps in range(1000): # increase number of steps for good results...\n",
    "\n",
    "    xb, yb = get_batch('train')\n",
    "\n",
    "    logits, loss = m(xb, yb)\n",
    "    optimizer.zero_grad(set_to_none=True)\n",
    "    loss.backward()\n",
    "    optimizer.step()\n",
    "\n",
    "print(loss.item())"
   ]
  },
  {
   "cell_type": "code",
   "execution_count": 177,
   "id": "7e5be24d-bea9-4428-8adf-e96e60873592",
   "metadata": {},
   "outputs": [
    {
     "name": "stdout",
     "output_type": "stream",
     "text": [
      "\n",
      "Wiro IOLELERFmesEDOLOngsan anour YCHARTCI t wireat ou t tabr anun hiflybe\n",
      "We; id ndirouensendsteantr\n"
     ]
    }
   ],
   "source": [
    "print(decode(m.generate(idx = torch.zeros((1, 1), dtype=torch.long), max_new_tokens=100)[0].tolist()))"
   ]
  },
  {
   "cell_type": "markdown",
   "id": "5d0b54a0-3a4c-4ec1-92c6-07a63439d089",
   "metadata": {},
   "source": [
    "### Self Attention"
   ]
  },
  {
   "cell_type": "code",
   "execution_count": 184,
   "id": "676ab524-50f1-43a6-8a9d-3fa5749b48c1",
   "metadata": {},
   "outputs": [
    {
     "data": {
      "text/plain": [
       "tensor([[[-0.1881,  1.3661],\n",
       "         [ 0.9206,  0.7364],\n",
       "         [-0.8994,  1.9893]],\n",
       "\n",
       "        [[-0.3984, -0.5891],\n",
       "         [ 1.6731,  0.2370],\n",
       "         [ 0.4831,  0.8974]],\n",
       "\n",
       "        [[-0.1061, -0.0132],\n",
       "         [ 0.5429,  0.5080],\n",
       "         [-0.1684, -0.8062]],\n",
       "\n",
       "        [[ 0.6470,  1.1576],\n",
       "         [ 0.6428, -0.1818],\n",
       "         [ 0.2294,  0.2868]]])"
      ]
     },
     "execution_count": 184,
     "metadata": {},
     "output_type": "execute_result"
    }
   ],
   "source": [
    "torch.randn(4,3,2)"
   ]
  },
  {
   "cell_type": "code",
   "execution_count": 186,
   "id": "5448495f-5515-4233-8f3a-18184c4454f9",
   "metadata": {},
   "outputs": [],
   "source": [
    "#bag of words (bow) = averaging"
   ]
  },
  {
   "cell_type": "code",
   "execution_count": 192,
   "id": "ee6134bf-44c2-42ca-ab81-2b947952c324",
   "metadata": {},
   "outputs": [
    {
     "name": "stdout",
     "output_type": "stream",
     "text": [
      "Linear(in_features=2, out_features=3, bias=False)\n"
     ]
    }
   ],
   "source": [
    "print(nn.Linear(2,3 ,bias=False))"
   ]
  },
  {
   "cell_type": "code",
   "execution_count": 194,
   "id": "769c8e93-b736-4cde-a33d-838c288278a2",
   "metadata": {},
   "outputs": [
    {
     "name": "stdout",
     "output_type": "stream",
     "text": [
      "Linear(in_features=2, out_features=3, bias=False)\n",
      "Output: tensor([[ 1.0993, -0.9380,  1.6415]], grad_fn=<MmBackward0>)\n"
     ]
    }
   ],
   "source": [
    "import torch\n",
    "import torch.nn as nn\n",
    "\n",
    "# Define the layer\n",
    "layer = nn.Linear(2, 3, bias=False)\n",
    "e)\n",
    "# Print the layer to see its structure\n",
    "print(layer)\n",
    "\n",
    "# Random input of size (batch_size=1, input_features=2)\n",
    "x = torch.tensor([[1.0, 2.0]])\n",
    "\n",
    "# Pass through the layer\n",
    "output = layer(x)\n",
    "\n",
    "print(\"Output:\", output)\n"
   ]
  },
  {
   "cell_type": "code",
   "execution_count": 198,
   "id": "f86df45c-4e31-4ba1-ad49-354a551e3919",
   "metadata": {},
   "outputs": [
    {
     "name": "stdout",
     "output_type": "stream",
     "text": [
      "Output: tensor([[ 0.2094,  1.2700, -0.8836]], grad_fn=<MmBackward0>)\n"
     ]
    }
   ],
   "source": [
    "layer2 = nn.Linear(2, 3, bias=False)\n",
    "# Random input of size (batch_size=1, input_features=2)\n",
    "x = torch.tensor([[1.0, 2.0]])\n",
    "\n",
    "# Pass through the layer\n",
    "output = layer2(x)\n",
    "\n",
    "print(\"Output:\", output)"
   ]
  }
 ],
 "metadata": {
  "kernelspec": {
   "display_name": "Python [conda env:base] *",
   "language": "python",
   "name": "conda-base-py"
  },
  "language_info": {
   "codemirror_mode": {
    "name": "ipython",
    "version": 3
   },
   "file_extension": ".py",
   "mimetype": "text/x-python",
   "name": "python",
   "nbconvert_exporter": "python",
   "pygments_lexer": "ipython3",
   "version": "3.12.7"
  }
 },
 "nbformat": 4,
 "nbformat_minor": 5
}
