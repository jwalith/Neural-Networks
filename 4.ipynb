{
 "cells": [
  {
   "cell_type": "markdown",
   "id": "94839910-6319-428a-bfa2-781f1733872f",
   "metadata": {},
   "source": [
    "### Backprop"
   ]
  },
  {
   "cell_type": "code",
   "execution_count": 2,
   "id": "cd032667-7208-408b-aae4-4ad9fafbd979",
   "metadata": {},
   "outputs": [],
   "source": [
    "import torch\n",
    "import torch.nn.functional as F\n",
    "import matplotlib.pyplot as plt # for making figures\n",
    "%matplotlib inline"
   ]
  },
  {
   "cell_type": "code",
   "execution_count": 3,
   "id": "f91ff447-fb22-498b-a080-6676425cd2a1",
   "metadata": {},
   "outputs": [
    {
     "name": "stdout",
     "output_type": "stream",
     "text": [
      "32033\n",
      "15\n",
      "['emma', 'olivia', 'ava', 'isabella', 'sophia', 'charlotte', 'mia', 'amelia']\n"
     ]
    }
   ],
   "source": [
    "# read in all the words\n",
    "words = open('names.txt', 'r').read().splitlines()\n",
    "print(len(words))\n",
    "print(max(len(w) for w in words))\n",
    "print(words[:8])"
   ]
  },
  {
   "cell_type": "code",
   "execution_count": 6,
   "id": "67a18eab-ea6c-4d25-82ab-85bdc3989c4a",
   "metadata": {},
   "outputs": [
    {
     "name": "stdout",
     "output_type": "stream",
     "text": [
      "{1: 'a', 2: 'b', 3: 'c', 4: 'd', 5: 'e', 6: 'f', 7: 'g', 8: 'h', 9: 'i', 10: 'j', 11: 'k', 12: 'l', 13: 'm', 14: 'n', 15: 'o', 16: 'p', 17: 'q', 18: 'r', 19: 's', 20: 't', 21: 'u', 22: 'v', 23: 'w', 24: 'x', 25: 'y', 26: 'z', 0: '.'}\n",
      "27\n"
     ]
    }
   ],
   "source": [
    "# build the vocabulary of characters and mappings to/from integers\n",
    "chars = sorted(list(set(''.join(words))))\n",
    "stoi = {s:i+1 for i,s in enumerate(chars)}\n",
    "stoi['.'] = 0\n",
    "itos = {i:s for s,i in stoi.items()}\n",
    "vocab_size = len(itos)\n",
    "print(itos)\n",
    "print(vocab_size)"
   ]
  },
  {
   "cell_type": "code",
   "execution_count": 8,
   "id": "ad0d16e0-6ded-4f83-a725-73d87e60aeb5",
   "metadata": {},
   "outputs": [
    {
     "name": "stdout",
     "output_type": "stream",
     "text": [
      "torch.Size([182625, 3]) torch.Size([182625])\n",
      "torch.Size([22655, 3]) torch.Size([22655])\n",
      "torch.Size([22866, 3]) torch.Size([22866])\n"
     ]
    }
   ],
   "source": [
    "# build the dataset\n",
    "block_size = 3 # context length: how many characters do we take to predict the next one?\n",
    "\n",
    "def build_dataset(words):  \n",
    "  X, Y = [], []\n",
    "  \n",
    "  for w in words:\n",
    "    context = [0] * block_size\n",
    "    for ch in w + '.':\n",
    "      ix = stoi[ch]\n",
    "      X.append(context)\n",
    "      Y.append(ix)\n",
    "      context = context[1:] + [ix] # crop and append\n",
    "\n",
    "  X = torch.tensor(X)\n",
    "  Y = torch.tensor(Y)\n",
    "  print(X.shape, Y.shape)\n",
    "  return X, Y\n",
    "\n",
    "import random\n",
    "random.seed(42)\n",
    "random.shuffle(words)\n",
    "n1 = int(0.8*len(words))\n",
    "n2 = int(0.9*len(words))\n",
    "\n",
    "Xtr,  Ytr  = build_dataset(words[:n1])     # 80%\n",
    "Xdev, Ydev = build_dataset(words[n1:n2])   # 10%\n",
    "Xte,  Yte  = build_dataset(words[n2:])     # 10%"
   ]
  },
  {
   "cell_type": "code",
   "execution_count": 40,
   "id": "2d5571ea-c9f4-4716-a9a7-d87e5be2e747",
   "metadata": {},
   "outputs": [],
   "source": [
    "# utility function we will use later when comparing manual gradients to PyTorch gradients\n",
    "def cmp(s, dt, t):\n",
    "  ex = torch.all(dt == t.grad).item() # exactly equal then we are returning bool\n",
    "  app = torch.allclose(dt, t.grad) # if it is approximately equal i.e slight floating point\n",
    "  maxdiff = (dt - t.grad).abs().max().item() # largest diff\n",
    "  print(f'{s:15s} | exact: {str(ex):5s} | approximate: {str(app):5s} | maxdiff: {maxdiff}')"
   ]
  },
  {
   "cell_type": "code",
   "execution_count": 12,
   "id": "5026bf94-d46d-4539-af91-3a8147f44b3d",
   "metadata": {},
   "outputs": [
    {
     "name": "stdout",
     "output_type": "stream",
     "text": [
      "4137\n"
     ]
    }
   ],
   "source": [
    "n_embd = 10 # the dimensionality of the character embedding vectors\n",
    "n_hidden = 64 # the number of neurons in the hidden layer of the MLP\n",
    "\n",
    "g = torch.Generator().manual_seed(2147483647) # for reproducibility\n",
    "C  = torch.randn((vocab_size, n_embd),            generator=g)\n",
    "# Layer 1\n",
    "W1 = torch.randn((n_embd * block_size, n_hidden), generator=g) * (5/3)/((n_embd * block_size)**0.5)\n",
    "b1 = torch.randn(n_hidden,                        generator=g) * 0.1 # using b1 just for fun, it's useless because of BN\n",
    "# Layer 2\n",
    "W2 = torch.randn((n_hidden, vocab_size),          generator=g) * 0.1\n",
    "b2 = torch.randn(vocab_size,                      generator=g) * 0.1\n",
    "# BatchNorm parameters\n",
    "bngain = torch.randn((1, n_hidden))*0.1 + 1.0\n",
    "bnbias = torch.randn((1, n_hidden))*0.1\n",
    "\n",
    "# Note: I am initializating many of these parameters in non-standard ways\n",
    "# because sometimes initializating with e.g. all zeros could mask an incorrect\n",
    "# implementation of the backward pass.\n",
    "\n",
    "parameters = [C, W1, b1, W2, b2, bngain, bnbias]\n",
    "print(sum(p.nelement() for p in parameters)) # number of parameters in total\n",
    "for p in parameters:\n",
    "  p.requires_grad = True"
   ]
  },
  {
   "cell_type": "code",
   "execution_count": 14,
   "id": "536baaa7-3dc5-4df7-8a35-d6a2fda8413e",
   "metadata": {},
   "outputs": [],
   "source": [
    "batch_size = 32\n",
    "n = batch_size # a shorter variable also, for convenience\n",
    "# construct a minibatch\n",
    "ix = torch.randint(0, Xtr.shape[0], (batch_size,), generator=g)\n",
    "Xb, Yb = Xtr[ix], Ytr[ix] # batch X,Y"
   ]
  },
  {
   "cell_type": "code",
   "execution_count": 16,
   "id": "c3ef6991-e61e-4ffe-a752-44cb4c90b8d9",
   "metadata": {},
   "outputs": [
    {
     "data": {
      "text/plain": [
       "tensor(3.3206, grad_fn=<NegBackward0>)"
      ]
     },
     "execution_count": 16,
     "metadata": {},
     "output_type": "execute_result"
    }
   ],
   "source": [
    "# forward pass, \"chunkated\" into smaller steps that are possible to backward one at a time\n",
    "\n",
    "emb = C[Xb] # embed the characters into vectors\n",
    "embcat = emb.view(emb.shape[0], -1) # concatenate the vectors\n",
    "# Linear layer 1\n",
    "hprebn = embcat @ W1 + b1 # hidden layer pre-activation\n",
    "# BatchNorm layer\n",
    "bnmeani = 1/n*hprebn.sum(0, keepdim=True)\n",
    "bndiff = hprebn - bnmeani\n",
    "bndiff2 = bndiff**2\n",
    "bnvar = 1/(n-1)*(bndiff2).sum(0, keepdim=True) # note: Bessel's correction (dividing by n-1, not n)\n",
    "bnvar_inv = (bnvar + 1e-5)**-0.5\n",
    "bnraw = bndiff * bnvar_inv\n",
    "hpreact = bngain * bnraw + bnbias\n",
    "# Non-linearity\n",
    "h = torch.tanh(hpreact) # hidden layer\n",
    "# Linear layer 2\n",
    "logits = h @ W2 + b2 # output layer\n",
    "# cross entropy loss (same as F.cross_entropy(logits, Yb))\n",
    "logit_maxes = logits.max(1, keepdim=True).values\n",
    "norm_logits = logits - logit_maxes # subtract max for numerical stability\n",
    "counts = norm_logits.exp()\n",
    "counts_sum = counts.sum(1, keepdims=True)\n",
    "counts_sum_inv = counts_sum**-1 # if I use (1.0 / counts_sum) instead then I can't get backprop to be bit exact...\n",
    "probs = counts * counts_sum_inv\n",
    "logprobs = probs.log()\n",
    "loss = -logprobs[range(n), Yb].mean()\n",
    "\n",
    "# PyTorch backward pass\n",
    "for p in parameters:\n",
    "  p.grad = None\n",
    "for t in [logprobs, probs, counts, counts_sum, counts_sum_inv, # afaik there is no cleaner way\n",
    "          norm_logits, logit_maxes, logits, h, hpreact, bnraw,\n",
    "         bnvar_inv, bnvar, bndiff2, bndiff, hprebn, bnmeani,\n",
    "         embcat, emb]:\n",
    "  t.retain_grad()\n",
    "loss.backward()\n",
    "loss"
   ]
  },
  {
   "cell_type": "code",
   "execution_count": 22,
   "id": "899b7e5a-50b3-4df2-9fe7-afe234879188",
   "metadata": {},
   "outputs": [],
   "source": [
    "# WE need to get all the derivitives \n",
    "# 1.logprobs = probs.log()\n",
    "# dlogprobs - stores the gradients"
   ]
  },
  {
   "cell_type": "code",
   "execution_count": 24,
   "id": "bf47955e-3c1c-41e2-be71-c378904d43e8",
   "metadata": {},
   "outputs": [
    {
     "data": {
      "text/plain": [
       "torch.Size([32, 27])"
      ]
     },
     "execution_count": 24,
     "metadata": {},
     "output_type": "execute_result"
    }
   ],
   "source": [
    "logprobs.shape"
   ]
  },
  {
   "cell_type": "code",
   "execution_count": 26,
   "id": "ddb083df-620d-4d16-b026-3ef4cbcfd366",
   "metadata": {},
   "outputs": [],
   "source": [
    "#dlogprobs will have the same size as logprobs"
   ]
  },
  {
   "cell_type": "code",
   "execution_count": null,
   "id": "b0de82bc-fba0-4b34-a194-f73d4316a5c5",
   "metadata": {},
   "outputs": [],
   "source": [
    "# HOw does this logprobs effect loss:"
   ]
  },
  {
   "cell_type": "code",
   "execution_count": 28,
   "id": "78cd29bc-ae0b-47e9-9f09-fab5cb2c90cd",
   "metadata": {},
   "outputs": [
    {
     "data": {
      "text/plain": [
       "tensor([ 8, 14, 15, 22,  0, 19,  9, 14,  5,  1, 20,  3,  8, 14, 12,  0, 11,  0,\n",
       "        26,  9, 25,  0,  1,  1,  7, 18,  9,  3,  5,  9,  0, 18])"
      ]
     },
     "execution_count": 28,
     "metadata": {},
     "output_type": "execute_result"
    }
   ],
   "source": [
    "Yb"
   ]
  },
  {
   "cell_type": "code",
   "execution_count": 30,
   "id": "5c67905d-40de-4a52-830a-7f198e4911fb",
   "metadata": {},
   "outputs": [
    {
     "data": {
      "text/plain": [
       "tensor([-3.9481, -3.1019, -3.6463, -3.1768, -4.0415, -3.5625, -3.1120, -3.9818,\n",
       "        -3.2309, -4.2221, -3.1284, -1.6282, -2.7474, -2.9955, -2.9120, -3.0980,\n",
       "        -3.8373, -2.9730, -3.6488, -3.4030, -2.8623, -2.9612, -4.2750, -3.9932,\n",
       "        -3.4201, -2.8390, -3.0218, -3.7930, -2.7993, -3.4700, -3.2597, -3.1708],\n",
       "       grad_fn=<IndexBackward0>)"
      ]
     },
     "execution_count": 30,
     "metadata": {},
     "output_type": "execute_result"
    }
   ],
   "source": [
    "logprobs[range(n), Yb]"
   ]
  },
  {
   "cell_type": "code",
   "execution_count": null,
   "id": "aca8187a-4a9b-4401-903e-bfd6f5852976",
   "metadata": {},
   "outputs": [],
   "source": [
    "#loss = -logprobs[range(n), Yb].mean()"
   ]
  },
  {
   "cell_type": "code",
   "execution_count": 32,
   "id": "2351b6fb-ec83-4d65-ad0a-d946b27c1454",
   "metadata": {},
   "outputs": [],
   "source": [
    "#loss = -(a+b+c)/3  == mean\n",
    "\n",
    "# dloss/da = 1/3  == d/dx(3x) = 3\n",
    "\n",
    "#SO for all these logprobs[range(n), Yb] values the gradient = 1/n\n",
    "\n",
    "# but in logprobs there are other values too their gradient will be 0 as they do not impact the loss"
   ]
  },
  {
   "cell_type": "code",
   "execution_count": 34,
   "id": "6f4ecdb6-51f6-4c42-b01d-151c91cbb085",
   "metadata": {},
   "outputs": [],
   "source": [
    "dlogprobs = torch.zeros_like(logprobs) # same shape as logprobs"
   ]
  },
  {
   "cell_type": "code",
   "execution_count": 36,
   "id": "3ff77f74-4dc5-4afc-a15b-7accb06ba5a8",
   "metadata": {},
   "outputs": [
    {
     "data": {
      "text/plain": [
       "32"
      ]
     },
     "execution_count": 36,
     "metadata": {},
     "output_type": "execute_result"
    }
   ],
   "source": [
    "n"
   ]
  },
  {
   "cell_type": "code",
   "execution_count": 38,
   "id": "7a960497-c65a-4076-b73b-a45d24401bdb",
   "metadata": {},
   "outputs": [],
   "source": [
    "dlogprobs [range(n), Yb] = -1.0/n # we set to -1/n"
   ]
  },
  {
   "cell_type": "code",
   "execution_count": 42,
   "id": "ac46f614-1e13-441a-94d9-11816972a858",
   "metadata": {},
   "outputs": [
    {
     "name": "stdout",
     "output_type": "stream",
     "text": [
      "logprobs        | exact: True  | approximate: True  | maxdiff: 0.0\n"
     ]
    }
   ],
   "source": [
    "cmp('logprobs', dlogprobs, logprobs)"
   ]
  },
  {
   "cell_type": "code",
   "execution_count": 46,
   "id": "1b0714e9-8b91-43f9-baaa-a927d19e337a",
   "metadata": {},
   "outputs": [],
   "source": [
    "#dprobs\n",
    "# d/dx(logx) = 1/x\n",
    "# probs.log()"
   ]
  },
  {
   "cell_type": "code",
   "execution_count": 48,
   "id": "f8f76102-e175-4acf-ad23-1ad9e3b5662e",
   "metadata": {},
   "outputs": [],
   "source": [
    "dprobs = (1.0/probs) * dlogprobs ## chain rule "
   ]
  },
  {
   "cell_type": "code",
   "execution_count": 50,
   "id": "10090833-eb07-49d8-9ca1-537b0446b0d5",
   "metadata": {},
   "outputs": [
    {
     "name": "stdout",
     "output_type": "stream",
     "text": [
      "probs           | exact: True  | approximate: True  | maxdiff: 0.0\n"
     ]
    }
   ],
   "source": [
    "cmp('probs', dprobs, probs)"
   ]
  },
  {
   "cell_type": "code",
   "execution_count": 52,
   "id": "7244c6ab-5b80-40f9-bae2-3ca0b30be220",
   "metadata": {},
   "outputs": [],
   "source": [
    "# if probs are correct then i.e if prob of correct is close to 1 then the change will be less if not\n",
    "# it will boost its gradient"
   ]
  },
  {
   "cell_type": "code",
   "execution_count": 68,
   "id": "53f5c72d-e9c2-4b75-ba8c-97f20ba8561f",
   "metadata": {},
   "outputs": [],
   "source": [
    "# counts * counts_sum_inv"
   ]
  },
  {
   "cell_type": "code",
   "execution_count": 60,
   "id": "5792120d-727c-4487-9b41-c97955a6b8fa",
   "metadata": {},
   "outputs": [],
   "source": [
    "# counts_sum_inv"
   ]
  },
  {
   "cell_type": "code",
   "execution_count": 62,
   "id": "786bb39a-0d0c-4e16-b1d9-b0ad33a5966a",
   "metadata": {},
   "outputs": [
    {
     "data": {
      "text/plain": [
       "(torch.Size([32, 1]), torch.Size([32, 27]))"
      ]
     },
     "execution_count": 62,
     "metadata": {},
     "output_type": "execute_result"
    }
   ],
   "source": [
    "counts_sum_inv .shape , counts.shape"
   ]
  },
  {
   "cell_type": "code",
   "execution_count": 64,
   "id": "2a140715-a1ff-48a7-9629-0d116f3ed805",
   "metadata": {},
   "outputs": [],
   "source": [
    "# 1. it has to replicate the [32, 1] to all [32, 27]\n",
    "# 2. multiply"
   ]
  },
  {
   "cell_type": "code",
   "execution_count": 66,
   "id": "268e1201-3e46-4702-b762-2df1bccaa8f7",
   "metadata": {},
   "outputs": [],
   "source": [
    "# c = a*b\n",
    "#db/dc = a"
   ]
  },
  {
   "cell_type": "code",
   "execution_count": 70,
   "id": "8c17b59b-a697-446b-97e6-030475bc70d0",
   "metadata": {},
   "outputs": [],
   "source": [
    "# dcounts_sum_inv = counts * dprobs  == this is for multiply"
   ]
  },
  {
   "cell_type": "code",
   "execution_count": 72,
   "id": "e8890c9b-4db9-45d6-9b8e-4da287a7cf0a",
   "metadata": {},
   "outputs": [],
   "source": [
    "# a[3,3] * b[3,1] == a1*b1 a2*b1 a3*b1\n",
    "# for replicating we sum to get the gradient and then we keep the dim to match  [32, 1] in its grad\n",
    "#here b1 is just replicating with others in this case we just sum"
   ]
  },
  {
   "cell_type": "code",
   "execution_count": 74,
   "id": "83db14b9-4ff1-4a90-86ac-0a3f2240275d",
   "metadata": {},
   "outputs": [],
   "source": [
    "dcounts_sum_inv = (counts * dprobs).sum(1 , keepdim = True)"
   ]
  },
  {
   "cell_type": "code",
   "execution_count": 76,
   "id": "a1131837-1d81-4e0f-81dc-d1b3228921a5",
   "metadata": {},
   "outputs": [
    {
     "name": "stdout",
     "output_type": "stream",
     "text": [
      "counts_sum_inv  | exact: True  | approximate: True  | maxdiff: 0.0\n"
     ]
    }
   ],
   "source": [
    "cmp('counts_sum_inv', dcounts_sum_inv, counts_sum_inv)"
   ]
  },
  {
   "cell_type": "code",
   "execution_count": 78,
   "id": "7b486fe5-ac18-4073-bd8b-70b25057fc71",
   "metadata": {},
   "outputs": [],
   "source": [
    "#counts"
   ]
  },
  {
   "cell_type": "code",
   "execution_count": 82,
   "id": "d6093fa3-0cd5-42c0-a676-36585aeee22e",
   "metadata": {},
   "outputs": [],
   "source": [
    "#da/dc = b"
   ]
  },
  {
   "cell_type": "code",
   "execution_count": 84,
   "id": "7a3de405-c6be-49c7-a736-cc725e061157",
   "metadata": {},
   "outputs": [],
   "source": [
    "dcounts = (counts_sum_inv * dprobs)"
   ]
  },
  {
   "cell_type": "code",
   "execution_count": 86,
   "id": "7413ea4d-d073-4eb8-a9bf-c981ac99f3ac",
   "metadata": {},
   "outputs": [],
   "source": [
    "## we cannot do cmf - compare right now as counts is also changed later stages"
   ]
  },
  {
   "cell_type": "code",
   "execution_count": 88,
   "id": "6dc2bd00-011a-4296-8f0d-d7361e5db9c3",
   "metadata": {},
   "outputs": [],
   "source": [
    "#counts_sum**-1"
   ]
  },
  {
   "cell_type": "code",
   "execution_count": 94,
   "id": "5fd502d2-997d-4976-8ca3-7339eeeb3361",
   "metadata": {},
   "outputs": [],
   "source": [
    "#d/dx(x**-1) =  -1/x**2"
   ]
  },
  {
   "cell_type": "code",
   "execution_count": 96,
   "id": "a2794b0d-fcd8-49f5-af87-a327275673cf",
   "metadata": {},
   "outputs": [],
   "source": [
    "dcounts_sum = (-counts_sum**-2) * dcounts_sum_inv"
   ]
  },
  {
   "cell_type": "code",
   "execution_count": 98,
   "id": "9dd5db3d-b9ae-41df-8404-9b5193b45305",
   "metadata": {},
   "outputs": [
    {
     "name": "stdout",
     "output_type": "stream",
     "text": [
      "counts_sum      | exact: True  | approximate: True  | maxdiff: 0.0\n"
     ]
    }
   ],
   "source": [
    "cmp('counts_sum', dcounts_sum, counts_sum)"
   ]
  },
  {
   "cell_type": "code",
   "execution_count": 100,
   "id": "043a16db-9b8a-4ed0-8506-24b1ca964d96",
   "metadata": {},
   "outputs": [],
   "source": [
    "#counts_sum = counts.sum(1, keepdims=True)"
   ]
  },
  {
   "cell_type": "code",
   "execution_count": 102,
   "id": "aa117fee-837f-48f3-8a6f-d71007e4287e",
   "metadata": {},
   "outputs": [
    {
     "data": {
      "text/plain": [
       "(torch.Size([32, 27]), torch.Size([32, 1]))"
      ]
     },
     "execution_count": 102,
     "metadata": {},
     "output_type": "execute_result"
    }
   ],
   "source": [
    "counts.shape , counts_sum.shape"
   ]
  },
  {
   "cell_type": "code",
   "execution_count": 106,
   "id": "b0f6f244-39d6-4fdc-975f-d359391c1060",
   "metadata": {},
   "outputs": [],
   "source": [
    "# a11 a12 a13 = b1( a11 + a12 + a13)\n",
    "# a21 a22 a23 = b1( a21 + a22 + a23)"
   ]
  },
  {
   "cell_type": "code",
   "execution_count": 110,
   "id": "eb21ff10-e360-4a4f-ac2a-a73064fb0cd5",
   "metadata": {},
   "outputs": [],
   "source": [
    "# SUM derivitave just flows i.e here here \n",
    "#  (torch.ones_like(counts) * dcounts_sum) \n",
    "## remember we alredy has one dcounts so we do +="
   ]
  },
  {
   "cell_type": "code",
   "execution_count": 112,
   "id": "b9e4b1dd-b325-45c5-86dc-985387ce3f6b",
   "metadata": {},
   "outputs": [],
   "source": [
    "dcounts += torch.ones_like(counts) * dcounts_sum"
   ]
  },
  {
   "cell_type": "code",
   "execution_count": 114,
   "id": "4d512898-f5d2-439d-a5ca-8e73906a2b12",
   "metadata": {},
   "outputs": [
    {
     "name": "stdout",
     "output_type": "stream",
     "text": [
      "counts          | exact: True  | approximate: True  | maxdiff: 0.0\n"
     ]
    }
   ],
   "source": [
    "cmp('counts', dcounts, counts)"
   ]
  },
  {
   "cell_type": "code",
   "execution_count": 116,
   "id": "3c8692e4-d34e-4bcf-87a4-67e43a3b7ac1",
   "metadata": {},
   "outputs": [],
   "source": [
    "#counts = norm_logits.exp()"
   ]
  },
  {
   "cell_type": "code",
   "execution_count": 118,
   "id": "968aed9b-9d93-456a-86c1-e03267d363bf",
   "metadata": {},
   "outputs": [],
   "source": [
    "# d/dx(e^x) = e^x"
   ]
  },
  {
   "cell_type": "code",
   "execution_count": 120,
   "id": "5e377cb2-e77c-4059-982d-0c7a23db948e",
   "metadata": {},
   "outputs": [],
   "source": [
    "# dnorm_logits = dnorm_logits ==counts"
   ]
  },
  {
   "cell_type": "code",
   "execution_count": 122,
   "id": "048d21ea-ebae-49e5-8937-d1b1c5e9b51d",
   "metadata": {},
   "outputs": [],
   "source": [
    "dnorm_logits = counts * dcounts"
   ]
  },
  {
   "cell_type": "code",
   "execution_count": 124,
   "id": "db727bef-fc87-43b8-8404-3a6f564ee6b8",
   "metadata": {},
   "outputs": [
    {
     "name": "stdout",
     "output_type": "stream",
     "text": [
      "norm_logits     | exact: True  | approximate: True  | maxdiff: 0.0\n"
     ]
    }
   ],
   "source": [
    "cmp('norm_logits', dnorm_logits, norm_logits)"
   ]
  },
  {
   "cell_type": "code",
   "execution_count": 126,
   "id": "28ec27fd-ac9b-4927-8d30-8b4b5ab2e3c4",
   "metadata": {},
   "outputs": [],
   "source": [
    "#norm_logits = logits - logit_maxes"
   ]
  },
  {
   "cell_type": "code",
   "execution_count": 128,
   "id": "6a236f9b-5a74-4c31-aad7-d23f38d0ad71",
   "metadata": {},
   "outputs": [
    {
     "data": {
      "text/plain": [
       "(torch.Size([32, 1]), torch.Size([32, 27]), torch.Size([32, 27]))"
      ]
     },
     "execution_count": 128,
     "metadata": {},
     "output_type": "execute_result"
    }
   ],
   "source": [
    "logit_maxes.shape , logits.shape, norm_logits.shape"
   ]
  },
  {
   "cell_type": "code",
   "execution_count": 136,
   "id": "7abe1ccb-9823-450e-9818-377f8c0f0145",
   "metadata": {},
   "outputs": [],
   "source": [
    "# C11 C12 C13 =  a11 a12 13  -  b1\n",
    "#e.g c12 = a12 -b1\n",
    "# just like above replication\n",
    "#for a,b ...C just pass"
   ]
  },
  {
   "cell_type": "code",
   "execution_count": 134,
   "id": "583c37ab-29c5-456f-bde5-bf87c0e11cdd",
   "metadata": {},
   "outputs": [],
   "source": [
    "dlogits =  dnorm_logits.clone() #just to save as we have logits in later stages"
   ]
  },
  {
   "cell_type": "code",
   "execution_count": 138,
   "id": "5c1c5507-cba8-48d4-b70c-20cf67b20ee0",
   "metadata": {},
   "outputs": [],
   "source": [
    "dlogit_maxes = (-dnorm_logits).sum(1, keepdim=True) # sum is for replication"
   ]
  },
  {
   "cell_type": "code",
   "execution_count": 140,
   "id": "78c4518e-bf8b-4085-bf01-64dffd71f429",
   "metadata": {},
   "outputs": [
    {
     "name": "stdout",
     "output_type": "stream",
     "text": [
      "logit_maxes     | exact: True  | approximate: True  | maxdiff: 0.0\n"
     ]
    }
   ],
   "source": [
    "cmp('logit_maxes', dlogit_maxes, logit_maxes)"
   ]
  },
  {
   "cell_type": "code",
   "execution_count": 142,
   "id": "f339f15d-21bb-4ba8-b35b-c477be08e2b8",
   "metadata": {},
   "outputs": [],
   "source": [
    "#logit_maxes we are doing so exp doesnt overflow\n",
    "#logit_maxes should not impact the probs and loss so it has to have less grad ~ 0"
   ]
  },
  {
   "cell_type": "code",
   "execution_count": 144,
   "id": "0b63ef33-c43c-4975-96e9-8e1609579259",
   "metadata": {},
   "outputs": [],
   "source": [
    "# may be in F.cross_entropy it might be 0 for logit_maxes"
   ]
  },
  {
   "cell_type": "code",
   "execution_count": 146,
   "id": "7bb723d2-6128-41e6-b95a-183aef0432ca",
   "metadata": {},
   "outputs": [],
   "source": [
    "# logit_maxes = logits.max(1, keepdim=True).values"
   ]
  },
  {
   "cell_type": "code",
   "execution_count": 148,
   "id": "591c3699-ec32-4ebb-a49e-614c0a70c3d8",
   "metadata": {
    "scrolled": true
   },
   "outputs": [
    {
     "data": {
      "text/plain": [
       "torch.return_types.max(\n",
       "values=tensor([[0.9586],\n",
       "        [0.9069],\n",
       "        [1.2378],\n",
       "        [0.6116],\n",
       "        [1.6625],\n",
       "        [0.8982],\n",
       "        [0.7917],\n",
       "        [1.4901],\n",
       "        [1.1190],\n",
       "        [1.1087],\n",
       "        [1.6831],\n",
       "        [2.0754],\n",
       "        [1.1236],\n",
       "        [0.9850],\n",
       "        [0.5694],\n",
       "        [0.7755],\n",
       "        [0.9710],\n",
       "        [0.7376],\n",
       "        [1.1236],\n",
       "        [0.8626],\n",
       "        [0.7840],\n",
       "        [0.9868],\n",
       "        [1.1236],\n",
       "        [1.2908],\n",
       "        [1.4747],\n",
       "        [0.9420],\n",
       "        [1.2897],\n",
       "        [0.9223],\n",
       "        [0.9950],\n",
       "        [0.8541],\n",
       "        [1.1674],\n",
       "        [0.8996]], grad_fn=<MaxBackward0>),\n",
       "indices=tensor([[ 1],\n",
       "        [ 2],\n",
       "        [19],\n",
       "        [15],\n",
       "        [15],\n",
       "        [25],\n",
       "        [16],\n",
       "        [ 3],\n",
       "        [19],\n",
       "        [ 8],\n",
       "        [15],\n",
       "        [ 3],\n",
       "        [22],\n",
       "        [18],\n",
       "        [ 7],\n",
       "        [ 5],\n",
       "        [ 2],\n",
       "        [ 1],\n",
       "        [22],\n",
       "        [19],\n",
       "        [15],\n",
       "        [19],\n",
       "        [22],\n",
       "        [22],\n",
       "        [23],\n",
       "        [ 5],\n",
       "        [22],\n",
       "        [20],\n",
       "        [24],\n",
       "        [ 8],\n",
       "        [24],\n",
       "        [13]]))"
      ]
     },
     "execution_count": 148,
     "metadata": {},
     "output_type": "execute_result"
    }
   ],
   "source": [
    "logits.max(1, keepdim=True)"
   ]
  },
  {
   "cell_type": "code",
   "execution_count": 150,
   "id": "a9b100e5-068a-4bc3-9a73-78a0e4a3a8a9",
   "metadata": {},
   "outputs": [],
   "source": [
    "# in forward pass we use only .values()"
   ]
  },
  {
   "cell_type": "code",
   "execution_count": 152,
   "id": "177423e2-394e-4e06-9bd4-18245d16bf9c",
   "metadata": {},
   "outputs": [],
   "source": [
    "# we need to pass dlogit_maxes on max index "
   ]
  },
  {
   "cell_type": "code",
   "execution_count": 154,
   "id": "cc8bda10-e5ad-4b57-9fc5-696b1de436d7",
   "metadata": {},
   "outputs": [
    {
     "data": {
      "text/plain": [
       "<matplotlib.image.AxesImage at 0x1423de5d0d0>"
      ]
     },
     "execution_count": 154,
     "metadata": {},
     "output_type": "execute_result"
    }
   ],
   "source": [
    "plt.imshow(F.one_hot(logits.max(1).indices, num_classes=logits.shape[1]))"
   ]
  },
  {
   "cell_type": "code",
   "execution_count": 158,
   "id": "91e62fdd-058c-446e-b9c9-a3ba6190b959",
   "metadata": {},
   "outputs": [
    {
     "data": {
      "image/png": "[encoded data removed]",
      "text/plain": [
       "<Figure size 640x480 with 1 Axes>"
      ]
     },
     "metadata": {},
     "output_type": "display_data"
    }
   ],
   "source": [
    "plt.show()"
   ]
  },
  {
   "cell_type": "code",
   "execution_count": 160,
   "id": "6996331a-9436-46fa-a1fb-dd9e6840eb82",
   "metadata": {},
   "outputs": [
    {
     "data": {
      "text/plain": [
       "torch.Size([32, 1])"
      ]
     },
     "execution_count": 160,
     "metadata": {},
     "output_type": "execute_result"
    }
   ],
   "source": [
    "dlogit_maxes.shape"
   ]
  },
  {
   "cell_type": "code",
   "execution_count": 164,
   "id": "0be60f57-2f6a-400f-b779-e498f1d10af0",
   "metadata": {},
   "outputs": [],
   "source": [
    "dlogits += F.one_hot(logits.max(1).indices, num_classes=logits.shape[1])*dlogit_maxes"
   ]
  },
  {
   "cell_type": "code",
   "execution_count": 166,
   "id": "1c03cd15-cc76-41d5-98a4-05159fd16d05",
   "metadata": {},
   "outputs": [
    {
     "name": "stdout",
     "output_type": "stream",
     "text": [
      "logits          | exact: True  | approximate: True  | maxdiff: 0.0\n"
     ]
    }
   ],
   "source": [
    "cmp('logits', dlogits, logits)"
   ]
  },
  {
   "cell_type": "code",
   "execution_count": 168,
   "id": "6fadffb3-4833-4785-9323-314cf7cd57d4",
   "metadata": {},
   "outputs": [],
   "source": [
    "# logits = h @ W2 + b2 # output layer"
   ]
  },
  {
   "cell_type": "code",
   "execution_count": 170,
   "id": "0a1e957b-5d44-4151-b619-7259ae81ec62",
   "metadata": {},
   "outputs": [
    {
     "data": {
      "text/plain": [
       "(torch.Size([32, 27]),\n",
       " torch.Size([32, 64]),\n",
       " torch.Size([64, 27]),\n",
       " torch.Size([27]))"
      ]
     },
     "execution_count": 170,
     "metadata": {},
     "output_type": "execute_result"
    }
   ],
   "source": [
    "dlogits.shape , h.shape, W2.shape, b2.shape"
   ]
  },
  {
   "cell_type": "code",
   "execution_count": 174,
   "id": "b546ead6-b4f5-47de-beb9-a86fde959325",
   "metadata": {},
   "outputs": [],
   "source": [
    "# d = a@b+c\n",
    "\n",
    "# d11 =  a11*b11 + a12*b12 + c1\n",
    "# d12 =  a11*b21 + a12*b22 + c2\n",
    "\n",
    "#dl/da11 = dL/dd11*b11 + dL/dd12*b12\n",
    "\n",
    "#dl/da = [dL/a11 dL/a22] b^T\n",
    "\n",
    "\n",
    "#dL/da = dL/dd @ b^T\n",
    "#dL/db = a^T @ dL/dd\n",
    "#dl/dc = dL/dd.sum()\n",
    "\n",
    "\n",
    "#No need to remember these formulas but as u know h shoud have same shape as dh then u know there is \n",
    "#@ between logits and other var then by their shapes u can get an idea"
   ]
  },
  {
   "cell_type": "code",
   "execution_count": 176,
   "id": "7da2fb4b-b77e-49fa-a89e-f65725a0b9a1",
   "metadata": {},
   "outputs": [],
   "source": [
    "dh = dlogits @ W2.T\n",
    "dW2 = h.T @ dlogits\n",
    "db2 = dlogits.sum(0)"
   ]
  },
  {
   "cell_type": "code",
   "execution_count": 178,
   "id": "f9758d30-dd6e-4106-a098-0bcd84db4abc",
   "metadata": {},
   "outputs": [
    {
     "name": "stdout",
     "output_type": "stream",
     "text": [
      "h               | exact: True  | approximate: True  | maxdiff: 0.0\n",
      "W2              | exact: True  | approximate: True  | maxdiff: 0.0\n",
      "b2              | exact: True  | approximate: True  | maxdiff: 0.0\n"
     ]
    }
   ],
   "source": [
    "cmp('h', dh, h)\n",
    "cmp('W2', dW2, W2)\n",
    "cmp('b2', db2, b2)"
   ]
  },
  {
   "cell_type": "code",
   "execution_count": 180,
   "id": "66890b51-7c71-4844-863c-31a66b5547fa",
   "metadata": {},
   "outputs": [],
   "source": [
    "# h = torch.tanh(hpreact) # hidden layer"
   ]
  },
  {
   "cell_type": "code",
   "execution_count": 182,
   "id": "866f0b4b-0102-403e-a79c-ac6062aaf487",
   "metadata": {},
   "outputs": [],
   "source": [
    "dhpreact = (1.0 - h**2) * dh # dh is chain rule and d/dx(tanh) = 1-x**2"
   ]
  },
  {
   "cell_type": "code",
   "execution_count": 184,
   "id": "87dea3e6-3217-467c-be54-f70a9d0239bc",
   "metadata": {},
   "outputs": [
    {
     "name": "stdout",
     "output_type": "stream",
     "text": [
      "hpreact         | exact: True  | approximate: True  | maxdiff: 0.0\n"
     ]
    }
   ],
   "source": [
    "cmp('hpreact', dhpreact, hpreact)"
   ]
  },
  {
   "cell_type": "code",
   "execution_count": 186,
   "id": "cd40dca3-4034-4404-8245-248476133fd6",
   "metadata": {},
   "outputs": [],
   "source": [
    "# hpreact = bngain * bnraw + bnbias"
   ]
  },
  {
   "cell_type": "code",
   "execution_count": 188,
   "id": "65677b0a-47fb-4c6f-92b8-b86759f30de9",
   "metadata": {},
   "outputs": [
    {
     "data": {
      "text/plain": [
       "(torch.Size([32, 64]),\n",
       " torch.Size([1, 64]),\n",
       " torch.Size([32, 64]),\n",
       " torch.Size([1, 64]))"
      ]
     },
     "execution_count": 188,
     "metadata": {},
     "output_type": "execute_result"
    }
   ],
   "source": [
    "hpreact.shape, bngain.shape, bnraw.shape, bnbias.shape"
   ]
  },
  {
   "cell_type": "code",
   "execution_count": 202,
   "id": "7b6c2118-9858-4f5a-ac56-e649f39de672",
   "metadata": {},
   "outputs": [],
   "source": [
    "#multiply rule of chain"
   ]
  },
  {
   "cell_type": "code",
   "execution_count": 204,
   "id": "bad8b32a-d362-41da-9bf4-5789b3564a1e",
   "metadata": {},
   "outputs": [],
   "source": [
    "dbngain = (bnraw*dhpreact).sum(0, keepdim=True) # sum is for replication of dim"
   ]
  },
  {
   "cell_type": "code",
   "execution_count": 206,
   "id": "f35f5dad-8233-469c-a08f-d29a8d6cdd9c",
   "metadata": {},
   "outputs": [],
   "source": [
    "dbnraw = bngain * dhpreact\n"
   ]
  },
  {
   "cell_type": "code",
   "execution_count": 208,
   "id": "4ca0baa5-c5ef-4216-8a44-2f060b4d6ca4",
   "metadata": {},
   "outputs": [],
   "source": [
    "#sum rule of chain"
   ]
  },
  {
   "cell_type": "code",
   "execution_count": 210,
   "id": "c94267e4-e957-46f6-98b5-2f3051919d4f",
   "metadata": {},
   "outputs": [],
   "source": [
    "dbnbias =  dhpreact.sum(0, keepdim= True)# sum is for replication of dim"
   ]
  },
  {
   "cell_type": "code",
   "execution_count": 212,
   "id": "58e96bab-0a7a-459a-a843-a36ae81580cf",
   "metadata": {},
   "outputs": [
    {
     "name": "stdout",
     "output_type": "stream",
     "text": [
      "bngain          | exact: True  | approximate: True  | maxdiff: 0.0\n",
      "bnbias          | exact: True  | approximate: True  | maxdiff: 0.0\n",
      "bnraw           | exact: True  | approximate: True  | maxdiff: 0.0\n"
     ]
    }
   ],
   "source": [
    "cmp('bngain', dbngain, bngain)\n",
    "cmp('bnbias', dbnbias, bnbias)\n",
    "cmp('bnraw', dbnraw, bnraw)"
   ]
  },
  {
   "cell_type": "code",
   "execution_count": 214,
   "id": "de4b8700-1881-4ebf-b675-ffe8c81fab8c",
   "metadata": {},
   "outputs": [],
   "source": [
    "# bnraw = bndiff * bnvar_inv "
   ]
  },
  {
   "cell_type": "code",
   "execution_count": 216,
   "id": "544af3a6-f7f5-406a-82a3-c47352a43c22",
   "metadata": {},
   "outputs": [
    {
     "data": {
      "text/plain": [
       "(torch.Size([32, 64]), torch.Size([32, 64]), torch.Size([1, 64]))"
      ]
     },
     "execution_count": 216,
     "metadata": {},
     "output_type": "execute_result"
    }
   ],
   "source": [
    "bnraw.shape, bndiff.shape, bnvar_inv.shape"
   ]
  },
  {
   "cell_type": "code",
   "execution_count": 268,
   "id": "f8a2acca-80ea-40bd-8908-8baffd1485d1",
   "metadata": {},
   "outputs": [],
   "source": [
    "dbndiff = bnvar_inv * dbnraw # multiply chain"
   ]
  },
  {
   "cell_type": "code",
   "execution_count": 220,
   "id": "bd274aff-d7c9-4ee5-bfee-3a3150af0680",
   "metadata": {},
   "outputs": [],
   "source": [
    "dbnvar_inv = (bndiff * dbnraw).sum(0,keepdim =True)"
   ]
  },
  {
   "cell_type": "code",
   "execution_count": 226,
   "id": "87e06587-5053-44d1-b954-248f238af7f0",
   "metadata": {},
   "outputs": [
    {
     "name": "stdout",
     "output_type": "stream",
     "text": [
      "bnvar_inv       | exact: True  | approximate: True  | maxdiff: 0.0\n"
     ]
    }
   ],
   "source": [
    "cmp('bnvar_inv', dbnvar_inv, bnvar_inv)"
   ]
  },
  {
   "cell_type": "code",
   "execution_count": 230,
   "id": "e3801af0-57f8-451b-9caa-10d1919df62b",
   "metadata": {},
   "outputs": [
    {
     "name": "stdout",
     "output_type": "stream",
     "text": [
      "bndiff          | exact: False | approximate: False | maxdiff: 0.00104168348480016\n"
     ]
    }
   ],
   "source": [
    "cmp('bndiff', dbndiff, bndiff) # we are not done with this"
   ]
  },
  {
   "cell_type": "code",
   "execution_count": 232,
   "id": "b113a636-956c-401c-bb9f-9242c328d246",
   "metadata": {},
   "outputs": [],
   "source": [
    "#bnvar_inv = (bnvar + 1e-5)**-0.5"
   ]
  },
  {
   "cell_type": "code",
   "execution_count": 238,
   "id": "88867357-6295-4d92-ac0f-c29699bbc46b",
   "metadata": {},
   "outputs": [],
   "source": [
    "dbnvar = (-0.5*(bnvar + 1e-5)**-1.5) * dbnvar_inv"
   ]
  },
  {
   "cell_type": "code",
   "execution_count": 240,
   "id": "fe14c7ee-6cda-4263-a14b-5aed9b7c03be",
   "metadata": {},
   "outputs": [
    {
     "name": "stdout",
     "output_type": "stream",
     "text": [
      "bnvar           | exact: True  | approximate: True  | maxdiff: 0.0\n"
     ]
    }
   ],
   "source": [
    "cmp('bnvar', dbnvar, bnvar)"
   ]
  },
  {
   "cell_type": "code",
   "execution_count": 242,
   "id": "0d976a9f-8deb-4bf9-a765-e54b91b23fa8",
   "metadata": {},
   "outputs": [],
   "source": [
    "#bnvar = 1/(n-1)*(bndiff2).sum(0, keepdim=True) # note: Bessel's correction (dividing by n-1, not n)"
   ]
  },
  {
   "cell_type": "code",
   "execution_count": 244,
   "id": "4e428645-5abd-4381-a7c6-581b3cf66103",
   "metadata": {},
   "outputs": [],
   "source": [
    "#n-1 is like varience = /n-1 #unbiased\n",
    "#population vs sample correction\n",
    "#here we are dealing with mini batches as samples"
   ]
  },
  {
   "cell_type": "code",
   "execution_count": 246,
   "id": "b97760e8-46ea-4add-8c13-17387495b3c8",
   "metadata": {},
   "outputs": [
    {
     "data": {
      "text/plain": [
       "(torch.Size([1, 64]), torch.Size([32, 64]))"
      ]
     },
     "execution_count": 246,
     "metadata": {},
     "output_type": "execute_result"
    }
   ],
   "source": [
    "bnvar.shape , bndiff2.shape"
   ]
  },
  {
   "cell_type": "code",
   "execution_count": 248,
   "id": "ad4c7ce3-8a16-4082-b011-390e9dda3bcc",
   "metadata": {},
   "outputs": [],
   "source": [
    "# sum in forward pass - replication in  backward pass"
   ]
  },
  {
   "cell_type": "code",
   "execution_count": 252,
   "id": "d3f643e1-41b3-4dac-ba46-0540b110b793",
   "metadata": {},
   "outputs": [],
   "source": [
    "## a11, a12\n",
    "\n",
    "#b1 = 1/(n-1) * (a11+a21)\n",
    "#b1 grads will have to flow through a"
   ]
  },
  {
   "cell_type": "code",
   "execution_count": 256,
   "id": "7d268c3d-7932-49e2-a297-92f07de87161",
   "metadata": {},
   "outputs": [],
   "source": [
    "dbndiff2 = (1.0/(n-1))*torch.ones_like(bndiff2) * dbnvar # replication will be done by broadcasting"
   ]
  },
  {
   "cell_type": "code",
   "execution_count": 258,
   "id": "99350e89-ce4a-4526-ba71-b81c694ef931",
   "metadata": {},
   "outputs": [
    {
     "name": "stdout",
     "output_type": "stream",
     "text": [
      "bndiff2         | exact: True  | approximate: True  | maxdiff: 0.0\n"
     ]
    }
   ],
   "source": [
    "cmp('bndiff2', dbndiff2, bndiff2)"
   ]
  },
  {
   "cell_type": "code",
   "execution_count": 260,
   "id": "c532b68a-f26d-4ed5-816b-ad48924af843",
   "metadata": {},
   "outputs": [],
   "source": [
    "#bndiff2 = bndiff**2"
   ]
  },
  {
   "cell_type": "code",
   "execution_count": null,
   "id": "319df2dd-206a-4541-9aec-2c2028dc8a43",
   "metadata": {},
   "outputs": [],
   "source": [
    "# d/dx x^2 = 2x "
   ]
  },
  {
   "cell_type": "code",
   "execution_count": 270,
   "id": "f87cbd3b-c49e-4c35-a62e-1519f0ca1fd0",
   "metadata": {},
   "outputs": [],
   "source": [
    "dbndiff+= (2*bndiff) * dbndiff2"
   ]
  },
  {
   "cell_type": "code",
   "execution_count": 272,
   "id": "65b0ffc9-f064-44a8-bdb0-469a40dc6c8b",
   "metadata": {},
   "outputs": [
    {
     "name": "stdout",
     "output_type": "stream",
     "text": [
      "bndiff          | exact: True  | approximate: True  | maxdiff: 0.0\n"
     ]
    }
   ],
   "source": [
    "cmp('bndiff', dbndiff, bndiff)"
   ]
  },
  {
   "cell_type": "code",
   "execution_count": 274,
   "id": "4e7bf65d-0d64-4d1c-861b-8e2abbf414c7",
   "metadata": {},
   "outputs": [],
   "source": [
    "# bndiff = hprebn - bnmeani"
   ]
  },
  {
   "cell_type": "code",
   "execution_count": 276,
   "id": "0f189ed0-33cf-4647-b47f-566dd5c0dece",
   "metadata": {},
   "outputs": [
    {
     "data": {
      "text/plain": [
       "(torch.Size([32, 64]), torch.Size([32, 64]), torch.Size([1, 64]))"
      ]
     },
     "execution_count": 276,
     "metadata": {},
     "output_type": "execute_result"
    }
   ],
   "source": [
    "bndiff.shape, hprebn.shape, bnmeani.shape"
   ]
  },
  {
   "cell_type": "code",
   "execution_count": 290,
   "id": "42ae8c18-1282-4c20-828f-57adea95a7af",
   "metadata": {},
   "outputs": [],
   "source": [
    "dhprebn = dbndiff.clone() # not done\n",
    "# dbnmeani = (-torch.ones_like(dbndiff) * dbndiff).sum(0)\n",
    "dbnmeani = (-dbndiff).sum(0)"
   ]
  },
  {
   "cell_type": "code",
   "execution_count": 284,
   "id": "50b42d51-4b59-443c-94cd-adf1d739cc20",
   "metadata": {},
   "outputs": [
    {
     "name": "stdout",
     "output_type": "stream",
     "text": [
      "bnmeani         | exact: True  | approximate: True  | maxdiff: 0.0\n"
     ]
    }
   ],
   "source": [
    "cmp('bnmeani', dbnmeani, bnmeani)"
   ]
  },
  {
   "cell_type": "code",
   "execution_count": 286,
   "id": "60c44f8e-af6e-4356-8a11-ca592a4f5fcd",
   "metadata": {},
   "outputs": [],
   "source": [
    "# bnmeani = 1/n*hprebn.sum(0, keepdim=True)"
   ]
  },
  {
   "cell_type": "code",
   "execution_count": 292,
   "id": "743b36ef-6dd6-42ca-9d37-cc3976bac947",
   "metadata": {},
   "outputs": [],
   "source": [
    "dhprebn+= 1.0/n * torch.ones_like(hprebn) *dbnmeani"
   ]
  },
  {
   "cell_type": "code",
   "execution_count": 294,
   "id": "fb54c7a6-78ed-4348-bd87-179533dae4da",
   "metadata": {},
   "outputs": [
    {
     "name": "stdout",
     "output_type": "stream",
     "text": [
      "hprebn          | exact: True  | approximate: True  | maxdiff: 0.0\n"
     ]
    }
   ],
   "source": [
    "cmp('hprebn', dhprebn, hprebn)"
   ]
  },
  {
   "cell_type": "code",
   "execution_count": 296,
   "id": "51125726-7cf9-407f-8a1b-ea9b6a251575",
   "metadata": {},
   "outputs": [],
   "source": [
    "# hprebn = embcat @ W1 + b1 # hidden layer pre-activation"
   ]
  },
  {
   "cell_type": "code",
   "execution_count": 302,
   "id": "e4119f58-005d-4b78-97ff-5ce3c1f3d5bc",
   "metadata": {},
   "outputs": [
    {
     "data": {
      "text/plain": [
       "(torch.Size([32, 64]),\n",
       " torch.Size([32, 30]),\n",
       " torch.Size([30, 64]),\n",
       " torch.Size([64]))"
      ]
     },
     "execution_count": 302,
     "metadata": {},
     "output_type": "execute_result"
    }
   ],
   "source": [
    "hprebn.shape, embcat.shape, W1.shape, b1.shape"
   ]
  },
  {
   "cell_type": "code",
   "execution_count": 304,
   "id": "0cb733ba-416c-40c2-ae1f-321b78b23a9d",
   "metadata": {},
   "outputs": [],
   "source": [
    "dembcat = dhprebn @ W1.T\n",
    "dW1 = embcat.T @ dhprebn\n",
    "db1 = dhprebn.sum(0)"
   ]
  },
  {
   "cell_type": "code",
   "execution_count": 306,
   "id": "416a7268-9b87-40c2-8cff-ec6c26a55231",
   "metadata": {},
   "outputs": [
    {
     "name": "stdout",
     "output_type": "stream",
     "text": [
      "embcat          | exact: True  | approximate: True  | maxdiff: 0.0\n",
      "W1              | exact: True  | approximate: True  | maxdiff: 0.0\n",
      "b1              | exact: True  | approximate: True  | maxdiff: 0.0\n"
     ]
    }
   ],
   "source": [
    "cmp('embcat', dembcat, embcat)\n",
    "cmp('W1', dW1, W1)\n",
    "cmp('b1', db1, b1)"
   ]
  },
  {
   "cell_type": "code",
   "execution_count": 308,
   "id": "2c9ebed7-3257-42eb-ad4c-c69fa07ffeac",
   "metadata": {},
   "outputs": [],
   "source": [
    "# embcat = emb.view(emb.shape[0], -1)"
   ]
  },
  {
   "cell_type": "code",
   "execution_count": 310,
   "id": "e21da547-e742-4247-89c9-34d7feaeb4ac",
   "metadata": {},
   "outputs": [
    {
     "data": {
      "text/plain": [
       "(torch.Size([32, 30]), torch.Size([32, 3, 10]))"
      ]
     },
     "execution_count": 310,
     "metadata": {},
     "output_type": "execute_result"
    }
   ],
   "source": [
    "embcat.shape, emb.shape"
   ]
  },
  {
   "cell_type": "code",
   "execution_count": 312,
   "id": "96412fd7-f11c-451d-8c6b-be56987dd94b",
   "metadata": {},
   "outputs": [],
   "source": [
    "demb = dembcat.view(emb.shape)"
   ]
  },
  {
   "cell_type": "code",
   "execution_count": 314,
   "id": "2b4317d9-26d3-4597-bdf9-ab082dd3d152",
   "metadata": {},
   "outputs": [
    {
     "name": "stdout",
     "output_type": "stream",
     "text": [
      "emb             | exact: True  | approximate: True  | maxdiff: 0.0\n"
     ]
    }
   ],
   "source": [
    "cmp('emb', demb, emb)"
   ]
  },
  {
   "cell_type": "code",
   "execution_count": 316,
   "id": "8930dd40-e015-405e-b8dc-1053f4f980a4",
   "metadata": {},
   "outputs": [],
   "source": [
    "# emb = C[Xb]"
   ]
  },
  {
   "cell_type": "code",
   "execution_count": 320,
   "id": "3da7442f-b464-4030-9923-5e44da284a76",
   "metadata": {},
   "outputs": [
    {
     "data": {
      "text/plain": [
       "(torch.Size([32, 3, 10]), torch.Size([27, 10]), torch.Size([32, 3]))"
      ]
     },
     "execution_count": 320,
     "metadata": {},
     "output_type": "execute_result"
    }
   ],
   "source": [
    "emb.shape, C.shape , Xb.shape"
   ]
  },
  {
   "cell_type": "code",
   "execution_count": 322,
   "id": "8fb72a97-b5e8-4aeb-9874-50a168adfe6e",
   "metadata": {},
   "outputs": [
    {
     "name": "stdout",
     "output_type": "stream",
     "text": [
      "tensor([[ 1,  1,  4],\n",
      "        [18, 14,  1],\n",
      "        [11,  5,  9]])\n"
     ]
    }
   ],
   "source": [
    "print(Xb[:3])"
   ]
  },
  {
   "cell_type": "code",
   "execution_count": 324,
   "id": "4fc84b74-f8ac-44f5-9517-5c6bd012ac12",
   "metadata": {},
   "outputs": [],
   "source": [
    "dC = torch.zeros_like(C)\n",
    "for k in range(Xb.shape[0]):\n",
    "  for j in range(Xb.shape[1]):\n",
    "    ix = Xb[k,j]\n",
    "    dC[ix] += demb[k,j]"
   ]
  },
  {
   "cell_type": "code",
   "execution_count": 326,
   "id": "f9eb4780-da9a-4b63-a3cb-8c6eea8b7b1c",
   "metadata": {},
   "outputs": [
    {
     "name": "stdout",
     "output_type": "stream",
     "text": [
      "C               | exact: True  | approximate: True  | maxdiff: 0.0\n"
     ]
    }
   ],
   "source": [
    "cmp('C', dC, C)"
   ]
  },
  {
   "cell_type": "code",
   "execution_count": null,
   "id": "002ded56-7fe6-4da1-95fe-38caa597ab2f",
   "metadata": {},
   "outputs": [],
   "source": []
  },
  {
   "cell_type": "code",
   "execution_count": 328,
   "id": "115eb590-8e33-4c27-a02c-7a424af941db",
   "metadata": {},
   "outputs": [],
   "source": [
    "# in the loss if u put together most them cancel out"
   ]
  },
  {
   "cell_type": "code",
   "execution_count": 330,
   "id": "9162877c-0191-4732-b7ac-c7cd88d96921",
   "metadata": {},
   "outputs": [
    {
     "name": "stdout",
     "output_type": "stream",
     "text": [
      "3.320647716522217 diff: 0.0\n"
     ]
    }
   ],
   "source": [
    "# Exercise 2: backprop through cross_entropy but all in one go\n",
    "# to complete this challenge look at the mathematical expression of the loss,\n",
    "# take the derivative, simplify the expression, and just write it out\n",
    "\n",
    "# forward pass\n",
    "\n",
    "# before:\n",
    "# logit_maxes = logits.max(1, keepdim=True).values\n",
    "# norm_logits = logits - logit_maxes # subtract max for numerical stability\n",
    "# counts = norm_logits.exp()\n",
    "# counts_sum = counts.sum(1, keepdims=True)\n",
    "# counts_sum_inv = counts_sum**-1 # if I use (1.0 / counts_sum) instead then I can't get backprop to be bit exact...\n",
    "# probs = counts * counts_sum_inv\n",
    "# logprobs = probs.log()\n",
    "# loss = -logprobs[range(n), Yb].mean()\n",
    "\n",
    "# now:\n",
    "loss_fast = F.cross_entropy(logits, Yb)\n",
    "print(loss_fast.item(), 'diff:', (loss_fast - loss).item())"
   ]
  },
  {
   "cell_type": "code",
   "execution_count": 332,
   "id": "7e47b74e-9924-4503-816b-a7135e7d00c4",
   "metadata": {},
   "outputs": [
    {
     "name": "stdout",
     "output_type": "stream",
     "text": [
      "logits          | exact: False | approximate: True  | maxdiff: 5.587935447692871e-09\n"
     ]
    }
   ],
   "source": [
    "# backward pass\n",
    "\n",
    "dlogits = F.softmax(logits, 1)\n",
    "dlogits[range(n), Yb] -= 1\n",
    "dlogits /= n\n",
    "\n",
    "cmp('logits', dlogits, logits) # I can only get approximate to be true, my maxdiff is 6e-9"
   ]
  },
  {
   "cell_type": "code",
   "execution_count": null,
   "id": "a454c107-0a5b-44bb-99b7-30d67260e635",
   "metadata": {},
   "outputs": [],
   "source": []
  },
  {
   "cell_type": "code",
   "execution_count": 335,
   "id": "22cbce45-ab54-4a1a-a8cb-94072bf653d3",
   "metadata": {},
   "outputs": [
    {
     "data": {
      "text/plain": [
       "(torch.Size([32, 27]), torch.Size([32]))"
      ]
     },
     "execution_count": 335,
     "metadata": {},
     "output_type": "execute_result"
    }
   ],
   "source": [
    "logits.shape, Yb.shape"
   ]
  },
  {
   "cell_type": "code",
   "execution_count": 337,
   "id": "c22a943a-8980-4eb9-9d24-924097524653",
   "metadata": {},
   "outputs": [
    {
     "data": {
      "text/plain": [
       "tensor([0.0762, 0.0830, 0.0186, 0.0503, 0.0201, 0.0796, 0.0229, 0.0383, 0.0193,\n",
       "        0.0310, 0.0329, 0.0376, 0.0380, 0.0296, 0.0350, 0.0140, 0.0101, 0.0202,\n",
       "        0.0180, 0.0570, 0.0487, 0.0206, 0.0270, 0.0649, 0.0599, 0.0257, 0.0214],\n",
       "       grad_fn=<SelectBackward0>)"
      ]
     },
     "execution_count": 337,
     "metadata": {},
     "output_type": "execute_result"
    }
   ],
   "source": [
    "F.softmax(logits, 1)[0]"
   ]
  },
  {
   "cell_type": "code",
   "execution_count": 339,
   "id": "6526e17d-2435-458d-9590-f12f415143f0",
   "metadata": {},
   "outputs": [],
   "source": [
    "# above are the probabilities"
   ]
  },
  {
   "cell_type": "code",
   "execution_count": 341,
   "id": "dda5cb24-8cd3-40e3-a26e-30a4a805ba8e",
   "metadata": {},
   "outputs": [
    {
     "data": {
      "text/plain": [
       "tensor([ 0.0762,  0.0830,  0.0186,  0.0503,  0.0201,  0.0796,  0.0229,  0.0383,\n",
       "        -0.9807,  0.0310,  0.0329,  0.0376,  0.0380,  0.0296,  0.0350,  0.0140,\n",
       "         0.0101,  0.0202,  0.0180,  0.0570,  0.0487,  0.0206,  0.0270,  0.0649,\n",
       "         0.0599,  0.0257,  0.0214], grad_fn=<MulBackward0>)"
      ]
     },
     "execution_count": 341,
     "metadata": {},
     "output_type": "execute_result"
    }
   ],
   "source": [
    "dlogits[0] * n"
   ]
  },
  {
   "cell_type": "code",
   "execution_count": 345,
   "id": "388dd2a8-a39e-4589-bd7b-200aad30ea7c",
   "metadata": {},
   "outputs": [],
   "source": [
    "# above are the grad(logits) , the -ve one is the correct answer and it is changing the direction"
   ]
  },
  {
   "cell_type": "code",
   "execution_count": 347,
   "id": "0be350e0-e193-460b-8bd3-617a1dadbfd1",
   "metadata": {},
   "outputs": [],
   "source": [
    "# if probs are exact correct 0 every where except 1 at correct index - then dlogits will be all 0's"
   ]
  },
  {
   "cell_type": "code",
   "execution_count": 349,
   "id": "ba035798-8894-41bf-a396-402ff5316024",
   "metadata": {},
   "outputs": [],
   "source": [
    "# as the sum of whole row is 1 then increasing the correct prob will dec the wrong prob"
   ]
  },
  {
   "cell_type": "code",
   "execution_count": 357,
   "id": "b9363ed5-49da-4b88-bab0-a77c99d80b16",
   "metadata": {},
   "outputs": [
    {
     "data": {
      "text/plain": [
       "<matplotlib.image.AxesImage at 0x1423de6eea0>"
      ]
     },
     "execution_count": 357,
     "metadata": {},
     "output_type": "execute_result"
    }
   ],
   "source": [
    "plt.figure(figsize=(4, 4))\n",
    "plt.imshow(dlogits.detach(), cmap='gray')"
   ]
  },
  {
   "cell_type": "code",
   "execution_count": 359,
   "id": "f2662d1b-f194-4db2-8a50-30ceeacf98fb",
   "metadata": {},
   "outputs": [
    {
     "data": {
      "image/png": "[encoded data removed]",
      "text/plain": [
       "<Figure size 400x400 with 1 Axes>"
      ]
     },
     "metadata": {},
     "output_type": "display_data"
    }
   ],
   "source": [
    "plt.show()"
   ]
  },
  {
   "cell_type": "code",
   "execution_count": null,
   "id": "40f80eef-efca-413d-922e-2dd6d3e14b2d",
   "metadata": {},
   "outputs": [],
   "source": []
  }
 ],
 "metadata": {
  "kernelspec": {
   "display_name": "Python [conda env:base] *",
   "language": "python",
   "name": "conda-base-py"
  },
  "language_info": {
   "codemirror_mode": {
    "name": "ipython",
    "version": 3
   },
   "file_extension": ".py",
   "mimetype": "text/x-python",
   "name": "python",
   "nbconvert_exporter": "python",
   "pygments_lexer": "ipython3",
   "version": "3.12.7"
  }
 },
 "nbformat": 4,
 "nbformat_minor": 5
}
